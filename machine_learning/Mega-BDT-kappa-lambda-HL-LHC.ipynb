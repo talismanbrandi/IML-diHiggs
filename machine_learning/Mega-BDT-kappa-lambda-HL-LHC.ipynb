{
 "cells": [
  {
   "cell_type": "code",
   "execution_count": 1,
   "metadata": {},
   "outputs": [],
   "source": [
    "#####################################################################\n",
    "# This notebook is authored by: Ayan Paul & Lina Alasfar            #\n",
    "# Date: May 2022                                                    #\n",
    "# If you use this code or the results from this work please cite:   # \n",
    "# Machine learning the trilinear and light-quark Yukawa couplings   #\n",
    "# from Higgs pair kinematic shapes                                  #\n",
    "# Lina Alasfar, Ramona Gröber, Christophe Grojean, Ayan Paul        #\n",
    "# and Zuoni Qian                                                    #\n",
    "# arXiv:2207.04157 (https://arxiv.org/abs/2207.04157)               #  \n",
    "#####################################################################\n",
    "\n",
    "import numpy as np\n",
    "import pandas as pd\n",
    "import xgboost as xgb\n",
    "from sklearn import ensemble\n",
    "import sklearn.model_selection as ms\n",
    "from sklearn import metrics\n",
    "import shap\n",
    "import matplotlib.pyplot as plt\n",
    "import os\n",
    "import math as m\n",
    "import collections\n",
    "import pickle\n",
    "from matplotlib.colors import ListedColormap, LinearSegmentedColormap\n",
    "from colour import Color\n",
    "from matplotlib import rc\n",
    "import sys\n",
    "import time\n",
    "from joblib import Parallel, delayed\n",
    "\n",
    "plt.rcParams['text.latex.preamble'] = r\"\\usepackage{amsmath}\"\n",
    "plt.rcParams['font.family'] = 'monospace'\n",
    "\n",
    "# To supress warnings from shap\n",
    "if not sys.warnoptions:\n",
    "    import warnings\n",
    "    warnings.simplefilter(\"ignore\")\n",
    "\n",
    "N_THREADS = 25 ## Change for reducing load on CPU\n",
    "os.environ['OMP_NUM_THREADS'] = str(N_THREADS)\n",
    "seed = 42\n",
    "\n",
    "colors = ['#3f7f93','#da3b46']\n",
    "cmp_2 = LinearSegmentedColormap.from_list('my_list', [Color(c1).rgb for c1 in colors], N=len(colors))\n",
    "\n",
    "colors = ['#3f7f93','#da3b46','#98b83b']\n",
    "cmp_3 = LinearSegmentedColormap.from_list('my_list', [Color(c1).rgb for c1 in colors], N=len(colors))\n",
    "\n",
    "colors = ['#3f7f93','#da3b46','#F6AE2D', '#98b83b']\n",
    "cmp_4 = LinearSegmentedColormap.from_list('my_list', [Color(c1).rgb for c1 in colors], N=len(colors))\n",
    "\n",
    "colors = ['#3f7f93','#da3b46','#F6AE2D', '#98b83b', '#825FC3']\n",
    "cmp_5 = LinearSegmentedColormap.from_list('my_list', [Color(c1).rgb for c1 in colors], N=len(colors))\n",
    "\n",
    "colors = ['#60a0af', '#af6079', '#a8b96f', '#fcb880', '#FDD7D0', '#a5d6e0']\n",
    "cmp_6 = LinearSegmentedColormap.from_list('my_list', [Color(c1).rgb for c1 in colors], N=len(colors))\n",
    "\n",
    "colors = ['#60a0af', '#af6079', '#a8b96f', '#fcb880', '#FDD7D0', '#a5d6e0', '#825FC3']\n",
    "cmp_7 = LinearSegmentedColormap.from_list('my_list', [Color(c1).rgb for c1 in colors], N=len(colors))\n",
    "\n",
    "# how far in eta the endcap goes\n",
    "ENDCAP = 4"
   ]
  },
  {
   "cell_type": "code",
   "execution_count": 2,
   "metadata": {},
   "outputs": [],
   "source": [
    "def fileparser(path, dlist, sclass, sample, L=2, cut=False):\n",
    "    \"\"\" The fileparser to read the events from a csv\n",
    "        argument:\n",
    "            path: the path to the file\n",
    "            dlist: the list of variables to be excluded\n",
    "            sample: the number of events that will be the train sample.\n",
    "            L: Luminosity scaling\n",
    "        returns:\n",
    "            df_train: the training dataframe\n",
    "            df_test: the testing dataframe\n",
    "            weight: the weight (related to crosssection)\n",
    "    \"\"\"\n",
    "    df = pd.read_csv(path)\n",
    "    \n",
    "    n = len(df)\n",
    "    df['class'] = sclass\n",
    "    weight = int(round(np.abs(df['weight'].sum()) * 3. * 1e6 * L)) ## The abs(mean()) is taken to make the weight of ybyt +ve\n",
    "    if cut: \n",
    "        N_cut = df.drop(df[((np.abs(df['etaa1'])>ENDCAP) | (np.abs(df['etaa2'])>ENDCAP) | (np.abs(df['etab1'])>ENDCAP) | (np.abs(df['etab2'])>ENDCAP))].index).shape[0]/df.shape[0]\n",
    "        df = df.drop(df[((np.abs(df['etaa1'])>ENDCAP) | (np.abs(df['etaa2'])>ENDCAP) | (np.abs(df['etab1'])>ENDCAP) | (np.abs(df['etab2'])>ENDCAP))].index).shape[0]\n",
    "        weight /= N_cut\n",
    "        \n",
    "    df_train = df.sample(n=sample, random_state=seed)\n",
    "    df_test = df.drop(df_train.index)\n",
    "        \n",
    "    df_train.drop(columns=dlist, inplace=True)\n",
    "    df_test.drop(columns=dlist, inplace=True)\n",
    "    return df_train, df_test, weight\n",
    "\n",
    "\n",
    "def runBDT(df, filename='', rf=False, depth=10, sample=1, seed=seed):\n",
    "    \"\"\" The BDT/RF runner\n",
    "        argument:\n",
    "            df: the dataframe with all the events\n",
    "            filename: the name of the pickle file to store the model in\n",
    "            rf: a bolean to toggle between BDT and Random Forest classifiers\n",
    "            sample: The fraction of variables to sample\n",
    "            seed: the seed for the random number generator\n",
    "        returns:\n",
    "            classifier: the classifier\n",
    "            x_test: the features for the test set\n",
    "            y_test: the labels for the test set\n",
    "            shap_values: the SHAP values\n",
    "            X_shap: the feature set with which the shap values have been computed\n",
    "    \"\"\"\n",
    "    mshap = True if depth <= 10 else False\n",
    "    df = df.sample(frac=sample)\n",
    "    nchannels = len(df['class'].unique())\n",
    "    X = df.drop(columns=['class', 'weight'])\n",
    "    y = df['class'].values\n",
    "\n",
    "    # Split for training and testing\n",
    "    x_train, x_test, y_train, y_test = ms.train_test_split(X.values, y, test_size=0.2, random_state=seed)\n",
    "    eval_set = [(x_train, y_train), (x_test, y_test)]\n",
    "    \n",
    "    # Fit the decision tree\n",
    "    if rf: \n",
    "        classifier = ensemble.RandomForestClassifier(max_depth=depth, n_estimators=1000, criterion='gini', n_jobs=int(N_THREADS/2), random_state=seed)\n",
    "        classifier = classifier.fit(x_train, y_train)\n",
    "    else: \n",
    "        classifier = xgb.XGBClassifier(max_depth=depth, learning_rate=0.1, objective='multi:softprob', num_class=nchannels,\n",
    "                                       n_jobs=N_THREADS, subsample=1, colsample_bytree=1, n_estimators=5000, random_state=seed)\n",
    "        classifier = classifier.fit(x_train, y_train, early_stopping_rounds=30, eval_set=eval_set,\n",
    "                                eval_metric=[\"merror\", \"mlogloss\"], verbose=False)\n",
    "    \n",
    "    # Predictions\n",
    "    y_pred = classifier.predict(x_test)\n",
    "    print('Accuracy Score: {:4.2f}% '.format(100*metrics.accuracy_score(y_test, y_pred)))\n",
    "    if filename != '': pickle.dump(classifier, open(filename, 'wb'))\n",
    "    \n",
    "    # Calculate the SHAP scores\n",
    "    if mshap:\n",
    "        X_shap = pd.DataFrame(x_test, columns=df.drop(columns=['class', 'weight']).columns)\n",
    "        explainer = shap.TreeExplainer(classifier)\n",
    "        shap_values = explainer.shap_values(X_shap)\n",
    "    else:\n",
    "        shap_values = []\n",
    "        X_shap = pd.DataFrame()\n",
    "        \n",
    "    return classifier, x_test, y_test, shap_values, X_shap\n",
    "\n",
    "\n",
    "def eval_training(classifier):\n",
    "    \"\"\" Evaluate the training\n",
    "        argument:\n",
    "            classifier: the BDT classifier\n",
    "    \"\"\"\n",
    "    results = classifier.evals_result()\n",
    "    epochs = len(results['validation_0']['merror'])\n",
    "    x_axis = range(0, epochs)\n",
    "\n",
    "    # plot log loss\n",
    "    plt.figure(figsize=(12,5))\n",
    "    plt.subplot(1, 2, 1)\n",
    "    plt.plot(x_axis, results['validation_0']['mlogloss'], label='train')\n",
    "    plt.plot(x_axis, results['validation_1']['mlogloss'], label='test')\n",
    "    plt.legend()\n",
    "\n",
    "    plt.ylabel('log loss')\n",
    "    plt.title('Classifier log loss')\n",
    "    plt.grid()\n",
    "\n",
    "    # plot classification error\n",
    "    plt.subplot(1, 2, 2)\n",
    "    plt.plot(x_axis, results['validation_0']['merror'], label='train')\n",
    "    plt.plot(x_axis, results['validation_1']['merror'], label='test')\n",
    "    plt.legend()\n",
    "\n",
    "    plt.ylabel('Classification Error')\n",
    "    plt.title('Classification Error')\n",
    "    plt.grid()\n",
    "    plt.show()\n",
    "    \n",
    "    \n",
    "def abs_shap(df_shap, df, shap_plot, names, class_names, cmp):\n",
    "    ''' A function to plot the bar plot for the mean abs SHAP values\n",
    "        arguments:\n",
    "            df_shap: the dataframe of the SHAP values\n",
    "            df: the dataframe for the feature values for which the SHAP values have been determined\n",
    "            shap_plot: The name of the output file for the plot\n",
    "            names: The names of the variables\n",
    "            class_names: names of the classes\n",
    "            cmp: the colour map\n",
    "    '''\n",
    "    rc('text', usetex=True)\n",
    "    plt.rcParams['text.latex.preamble'] = r\"\\usepackage{amsmath}\"\n",
    "    plt.figure(figsize=(5,5))\n",
    "    shap.summary_plot(df_shap, df, color=cmp, class_names=class_names, class_inds='original', plot_size=(5,5), show=False, feature_names=names)\n",
    "    ax = plt.gca()\n",
    "    handles, labels = ax.get_legend_handles_labels()\n",
    "    ax.legend(reversed(handles), reversed(labels), loc='lower right', fontsize=15)\n",
    "    plt.xlabel(r'$\\overline{|S_v|}$', fontsize=15)\n",
    "    ax = plt.gca()\n",
    "    ax.spines[\"top\"].set_visible(True)\n",
    "    ax.spines[\"right\"].set_visible(True)\n",
    "    ax.spines[\"left\"].set_visible(True)\n",
    "    vals = ax.get_xticks()\n",
    "    ax.tick_params(axis='both', which='major', labelsize=15)\n",
    "    for tick in vals:\n",
    "        ax.axvline(x=tick, linestyle='dashed', alpha=0.7, color='#808080', zorder=0, linewidth=0.5)\n",
    "    plt.annotate('HL-LHC', xy=(0.5, 0.01), xycoords='axes fraction', horizontalalignment='center',\n",
    "                verticalalignment='bottom', fontsize=20, fontweight='900', zorder=100, color='#474747')\n",
    "    plt.tight_layout()\n",
    "    plt.savefig(shap_plot, dpi=300)\n",
    "    rc('text', usetex=False)\n",
    "    \n",
    "def get_mclass(i, df_array, weight_array, ps_exp_class, seed=seed):\n",
    "    \"\"\" This function is used to create the confusion matrix\n",
    "        arguments:\n",
    "            i: integer corresponding to the class number\n",
    "            df_array: the array of the dataframes of the different classes\n",
    "            weight_array: the array of the weights for the different classes\n",
    "            ps_exp_class: the collection of the pseudo experiment events\n",
    "            seed: the seed for the random number generator\n",
    "        returns:\n",
    "            nevents: the number of events\n",
    "    \"\"\"\n",
    "    nchannels = len(df_array)\n",
    "    mclass = []\n",
    "    for j in range(nchannels):\n",
    "        mclass.append(collections.Counter(classifier.predict(df_array[j].iloc[:,:-2].values))[i]/len(df_array[j])*weight_array[j]/weight_array[i])\n",
    "    nevents = np.round(ps_exp_class[i]/np.sum(mclass)*np.array(mclass)).astype(int)\n",
    "    return nevents\n",
    "\n",
    "\n",
    "def build_confusion(df, weight, clf, filename, keys):\n",
    "    \"\"\" Export the confusion matrix to a json\n",
    "        argument:\n",
    "            df: array of dataframes with the signal and background\n",
    "            weight: array of weights for the signal and background\n",
    "            clf: the classifier\n",
    "            filename: the name of the file to export to\n",
    "            keys: the channel names for which the confusion matrix is created\n",
    "        returns:\n",
    "            df: dataframe with the confusion matrix\n",
    "    \"\"\"\n",
    "    ps_exp_class = collections.Counter(clf.predict(\n",
    "        pd.concat([df[i].iloc[:,:-2].sample(n=round(weight[i]), random_state=seed, replace=True) for i in range(len(df))])\n",
    "        .values))\n",
    "\n",
    "    confusion = np.column_stack([get_mclass(i, df, weight, ps_exp_class) for i in reversed(range(len(df)))])\n",
    "    \n",
    "    df = pd.DataFrame(confusion.T)\n",
    "    df = df[df.columns[::-1]]\n",
    "    df.columns = keys\n",
    "    df.index = keys\n",
    "    df = df.T\n",
    "    df['total'] = df.sum(axis=1)\n",
    "    df = df.T\n",
    "    df['Z'] = 0\n",
    "    for key in keys:\n",
    "        df.loc[key,'Z'] = df.loc[key, key]/np.sqrt(df.loc[key].sum())\n",
    "    df.T.to_json(filename)\n",
    "    return df"
   ]
  },
  {
   "cell_type": "code",
   "execution_count": 3,
   "metadata": {},
   "outputs": [
    {
     "name": "stdout",
     "output_type": "stream",
     "text": [
      "No. of kappa_d triangle events: train = 20000, test = 94586\n",
      "No. of kappa_u triangle events: train = 20000, test = 92330\n",
      "No. of hhsm events: train = 14058, test = 622889\n",
      "No. of hhsm triangle events: train = 20000, test = 195814\n",
      "No. of hhsm interference events: train = 20000, test = 208135\n",
      "No. of hhsm box events: train = 20000, test = 218940\n",
      "No. of bbh+tth events: train = 89170, test = 1005114\n",
      "No. of bbxaa events: train = 120000, test = 85864\n"
     ]
    }
   ],
   "source": [
    "dlist = ['ptb2', 'etaaa', 'dphibb', 'etaa1', 'etab1', 'etaa2', 'drba1', 'dphiba1', 'drbamin', 'nbjet', 'etab2']\n",
    "\n",
    "# k-factors\n",
    "k_box = 1.98\n",
    "k_int = 2.15\n",
    "k_tri = 2.28\n",
    "k_bbh_yb2 = 1.5\n",
    "k_bbh_ybyt = 1.9\n",
    "k_bbh_yt2 = 2.5\n",
    "k_bbh_zh = 1.3\n",
    "k_tth = 1.2\n",
    "k_bbxaa = 1.5\n",
    "k_ku = 1.29\n",
    "k_kd = 1.3\n",
    "\n",
    "# 14 TeV\n",
    "path = '../simulations/HL-LHC/'\n",
    "\n",
    "# The bbxaa background\n",
    "df_bbxaa, df_bbxaa_test, weight_bbxaa = fileparser(path+\"bbxaa.tar.gz\", dlist, sclass=0, sample=120000)\n",
    "weight_bbxaa = weight_bbxaa*k_bbxaa\n",
    "\n",
    "# The tth+bbh background\n",
    "fact = 10\n",
    "df_tth, df_tth_test, weight_tth = fileparser(path+\"ttH.tar.gz\", dlist, sclass=1, sample=4430*fact)\n",
    "df_yb2, df_yb2_test, weight_yb2 = fileparser(path+\"yb2.tar.gz\", dlist, sclass=1, sample=663*fact)\n",
    "df_ybyt, df_ybyt_test, weight_ybyt = fileparser(path+\"ybyt.tar.gz\", dlist, sclass=1, sample=139*fact)\n",
    "df_yt2, df_yt2_test, weight_yt2 = fileparser(path+\"yt2.tar.gz\", dlist, sclass=1, sample=2888*fact)\n",
    "df_zh, df_zh_test, weight_zh = fileparser(path+\"zh.tar.gz\", dlist, sclass=1, sample=797*fact)\n",
    "\n",
    "df_bbh_tth = pd.concat([df_tth, df_yb2, df_ybyt, df_yt2, df_zh])\n",
    "df_bbh_tth_test = pd.concat([df_tth_test, df_yb2_test, df_ybyt_test, df_yt2_test, df_zh_test])\n",
    "weight_bbh_tth = int(weight_tth*k_tth + weight_yb2*k_bbh_yb2 - weight_ybyt*k_bbh_ybyt + weight_yt2*k_bbh_yt2 + weight_zh*k_bbh_zh)\n",
    "\n",
    "# The hhsm signal\n",
    "df_hhsm_b, df_hhsm_b_test, weight_hhsm_b = fileparser(path+\"HH-box.tar.gz\", dlist, sclass=2, sample=20000)\n",
    "df_hhsm_i, df_hhsm_i_test, weight_hhsm_i = fileparser(path+\"HH-int.tar.gz\", dlist, sclass=3, sample=20000)\n",
    "df_hhsm_t, df_hhsm_t_test, weight_hhsm_t = fileparser(path+\"HH-tri.tar.gz\", dlist, sclass=4, sample=20000)\n",
    "weight_hhsm_b = weight_hhsm_b*k_box\n",
    "weight_hhsm_i = weight_hhsm_i*k_int\n",
    "weight_hhsm_t = weight_hhsm_t*k_tri\n",
    "\n",
    "fact = 10\n",
    "df_hhsm = pd.concat([df_hhsm_b.sample(n=int(weight_hhsm_b*fact)), df_hhsm_i.sample(n=int(weight_hhsm_i*fact)), df_hhsm_t.sample(n=int(weight_hhsm_t*fact))])\n",
    "df_hhsm['class'] = 2\n",
    "df_hhsm_test = pd.concat([df_hhsm_b_test, df_hhsm_i_test, df_hhsm_t_test])\n",
    "df_hhsm_test['class'] = 2\n",
    "weight_hhsm = int(weight_hhsm_b - weight_hhsm_i + weight_hhsm_t)\n",
    "\n",
    "# kappa_u and kappa_d\n",
    "df_ku, df_ku_test, weight_ku = fileparser(path+\"ku-1600.tar.gz\", dlist, sclass=5, sample=20000)\n",
    "df_kd, df_kd_test, weight_kd = fileparser(path+\"kd-800.tar.gz\", dlist, sclass=5, sample=20000)\n",
    "weight_ku = weight_ku*k_ku\n",
    "weight_kd = weight_kd*k_kd\n",
    "\n",
    "\n",
    "print(\"No. of kappa_d triangle events: train = {}, test = {}\".format(df_kd.shape[0],df_kd_test.shape[0]))\n",
    "print(\"No. of kappa_u triangle events: train = {}, test = {}\".format(df_ku.shape[0],df_ku_test.shape[0]))\n",
    "print(\"No. of hhsm events: train = {}, test = {}\".format(df_hhsm.shape[0],df_hhsm_test.shape[0]))\n",
    "print(\"No. of hhsm triangle events: train = {}, test = {}\".format(df_hhsm_t.shape[0],df_hhsm_t_test.shape[0]))\n",
    "print(\"No. of hhsm interference events: train = {}, test = {}\".format(df_hhsm_i.shape[0],df_hhsm_i_test.shape[0]))\n",
    "print(\"No. of hhsm box events: train = {}, test = {}\".format(df_hhsm_b.shape[0],df_hhsm_b_test.shape[0]))\n",
    "print(\"No. of bbh+tth events: train = {}, test = {}\".format(df_bbh_tth.shape[0],df_bbh_tth_test.shape[0]))\n",
    "print(\"No. of bbxaa events: train = {}, test = {}\".format(df_bbxaa.shape[0],df_bbxaa_test.shape[0]))\n",
    "\n",
    "names = [r'$n_{jet}$', r'$p_T^{b_1}$', r'$p_T^{\\gamma_1}$', r'$p_T^{\\gamma_2}$', r'$p_T^{\\gamma\\gamma}$', r'$m_{bb}$', r'$m_{\\gamma\\gamma}$', r'$m_{b_1h}$',\n",
    "         r'$m_{bbh}$', r'$E^{\\rm miss}_T$', r'$H_T$']"
   ]
  },
  {
   "cell_type": "markdown",
   "metadata": {},
   "source": [
    "___________________\n",
    "# The hh analysis"
   ]
  },
  {
   "cell_type": "code",
   "execution_count": 4,
   "metadata": {},
   "outputs": [],
   "source": [
    "channels = [df_hhsm_t, df_hhsm_i, df_hhsm_b, df_bbh_tth, df_bbxaa]\n",
    "df_train = pd.concat(channels, ignore_index=True)\n",
    "df_train = df_train.sample(frac=1).reset_index(drop=True)"
   ]
  },
  {
   "cell_type": "code",
   "execution_count": 5,
   "metadata": {
    "pycharm": {
     "is_executing": false,
     "name": "#%%\n"
    }
   },
   "outputs": [
    {
     "name": "stdout",
     "output_type": "stream",
     "text": [
      "Accuracy Score: 71.74% \n"
     ]
    },
    {
     "data": {
      "image/png": "[encoded data removed]",
      "text/plain": [
       "<Figure size 360x360 with 1 Axes>"
      ]
     },
     "metadata": {
      "needs_background": "light"
     },
     "output_type": "display_data"
    }
   ],
   "source": [
    "class_names = [r'$bb\\gamma\\gamma$', r'$Q\\bar{Q}h$', r'$hh^{gg\\rm F}_{\\rm box}$', r'$hh^{ggF}_{\\rm int}$', r'$hh^{gg\\rm F}_{\\rm tri}$']\n",
    "filename = '../results/models/HL-LHC-BDT/hh-BDT-5class-hhsm.pickle.dat'\n",
    "shap_plot = '../plots/HL-LHC-shap-bbxaa-bbh-tth-hhsm.pdf'\n",
    "\n",
    "classifier, x_test, y_test, shap_values_5, X_shap_5 = runBDT(df_train, filename, depth=10)\n",
    "abs_shap(shap_values_5, X_shap_5, shap_plot, names=names, class_names=class_names, cmp=cmp_5)"
   ]
  },
  {
   "cell_type": "code",
   "execution_count": 6,
   "metadata": {},
   "outputs": [
    {
     "name": "stdout",
     "output_type": "stream",
     "text": [
      "Accuracy Score for hhsm triangle: 29.91% \n",
      "Accuracy Score for hhsm interference: 29.91% \n",
      "Accuracy Score for hhsm box: 31.27% \n",
      "Accuracy Score for bbh+tth: 70.25% \n",
      "Accuracy Score for bbxaa: 89.22% \n"
     ]
    }
   ],
   "source": [
    "hhsm_t_p = df_hhsm_t_test.sample(n=round(weight_hhsm_t), replace=True, random_state=seed).reset_index(drop=True)\n",
    "hhsm_i_p = df_hhsm_i_test.sample(n=round(weight_hhsm_i), replace=True, random_state=seed).reset_index(drop=True)\n",
    "hhsm_i_b = df_hhsm_b_test.sample(n=round(weight_hhsm_b), replace=True, random_state=seed).reset_index(drop=True)\n",
    "bbh_tth_p = df_bbh_tth_test.sample(n=round(weight_bbh_tth), replace=True, random_state=seed).reset_index(drop=True)\n",
    "bbxaa_p = df_bbxaa_test.sample(n=round(weight_bbxaa), replace=True, random_state=seed).reset_index(drop=True)\n",
    "\n",
    "print('Accuracy Score for hhsm triangle: {:4.2f}% '.format(100*metrics.accuracy_score(hhsm_t_p['class'].values, classifier.predict(hhsm_t_p.drop(columns=['class', 'weight']).values))))\n",
    "print('Accuracy Score for hhsm interference: {:4.2f}% '.format(100*metrics.accuracy_score(hhsm_t_p['class'].values, classifier.predict(hhsm_t_p.drop(columns=['class', 'weight']).values))))\n",
    "print('Accuracy Score for hhsm box: {:4.2f}% '.format(100*metrics.accuracy_score(hhsm_i_b['class'].values, classifier.predict(hhsm_i_b.drop(columns=['class', 'weight']).values))))\n",
    "print('Accuracy Score for bbh+tth: {:4.2f}% '.format(100*metrics.accuracy_score(bbh_tth_p['class'].values, classifier.predict(bbh_tth_p.drop(columns=['class', 'weight']).values))))\n",
    "print('Accuracy Score for bbxaa: {:4.2f}% '.format(100*metrics.accuracy_score(bbxaa_p['class'].values, classifier.predict(bbxaa_p.drop(columns=['class', 'weight']).values))))"
   ]
  },
  {
   "cell_type": "code",
   "execution_count": 7,
   "metadata": {},
   "outputs": [
    {
     "data": {
      "text/html": [
       "<div>\n",
       "<style scoped>\n",
       "    .dataframe tbody tr th:only-of-type {\n",
       "        vertical-align: middle;\n",
       "    }\n",
       "\n",
       "    .dataframe tbody tr th {\n",
       "        vertical-align: top;\n",
       "    }\n",
       "\n",
       "    .dataframe thead th {\n",
       "        text-align: right;\n",
       "    }\n",
       "</style>\n",
       "<table border=\"1\" class=\"dataframe\">\n",
       "  <thead>\n",
       "    <tr style=\"text-align: right;\">\n",
       "      <th></th>\n",
       "      <th>tri</th>\n",
       "      <th>int</th>\n",
       "      <th>box</th>\n",
       "      <th>tth+bbh</th>\n",
       "      <th>bbxaa</th>\n",
       "      <th>Z</th>\n",
       "    </tr>\n",
       "  </thead>\n",
       "  <tbody>\n",
       "    <tr>\n",
       "      <th>tri</th>\n",
       "      <td>28</td>\n",
       "      <td>91</td>\n",
       "      <td>79</td>\n",
       "      <td>175</td>\n",
       "      <td>1825</td>\n",
       "      <td>0.597234</td>\n",
       "    </tr>\n",
       "    <tr>\n",
       "      <th>int</th>\n",
       "      <td>14</td>\n",
       "      <td>82</td>\n",
       "      <td>107</td>\n",
       "      <td>99</td>\n",
       "      <td>901</td>\n",
       "      <td>2.364183</td>\n",
       "    </tr>\n",
       "    <tr>\n",
       "      <th>box</th>\n",
       "      <td>17</td>\n",
       "      <td>125</td>\n",
       "      <td>257</td>\n",
       "      <td>190</td>\n",
       "      <td>1006</td>\n",
       "      <td>6.435063</td>\n",
       "    </tr>\n",
       "    <tr>\n",
       "      <th>tth+bbh</th>\n",
       "      <td>37</td>\n",
       "      <td>176</td>\n",
       "      <td>263</td>\n",
       "      <td>5452</td>\n",
       "      <td>30978</td>\n",
       "      <td>28.379671</td>\n",
       "    </tr>\n",
       "    <tr>\n",
       "      <th>bbxaa</th>\n",
       "      <td>10</td>\n",
       "      <td>41</td>\n",
       "      <td>50</td>\n",
       "      <td>1838</td>\n",
       "      <td>287097</td>\n",
       "      <td>534.014052</td>\n",
       "    </tr>\n",
       "    <tr>\n",
       "      <th>total</th>\n",
       "      <td>106</td>\n",
       "      <td>515</td>\n",
       "      <td>756</td>\n",
       "      <td>7754</td>\n",
       "      <td>321807</td>\n",
       "      <td>0.000000</td>\n",
       "    </tr>\n",
       "  </tbody>\n",
       "</table>\n",
       "</div>"
      ],
      "text/plain": [
       "         tri  int  box  tth+bbh   bbxaa           Z\n",
       "tri       28   91   79      175    1825    0.597234\n",
       "int       14   82  107       99     901    2.364183\n",
       "box       17  125  257      190    1006    6.435063\n",
       "tth+bbh   37  176  263     5452   30978   28.379671\n",
       "bbxaa     10   41   50     1838  287097  534.014052\n",
       "total    106  515  756     7754  321807    0.000000"
      ]
     },
     "execution_count": 7,
     "metadata": {},
     "output_type": "execute_result"
    }
   ],
   "source": [
    "df_array = [df_bbxaa_test, df_bbh_tth_test, df_hhsm_b_test, df_hhsm_i_test, df_hhsm_t_test]\n",
    "weight_array = [weight_bbxaa, weight_bbh_tth, weight_hhsm_b, weight_hhsm_i, weight_hhsm_t]\n",
    "keys = ['tri', 'int', 'box', 'tth+bbh', 'bbxaa']\n",
    "filename = '../results/confusion/HL-LHC-BDT/hh-BDT-5class-hhsm.confusion.json'\n",
    "\n",
    "df = build_confusion(df_array, weight_array, classifier, filename, keys)\n",
    "df"
   ]
  },
  {
   "cell_type": "markdown",
   "metadata": {},
   "source": [
    "### Checks for the confusion matrix"
   ]
  },
  {
   "cell_type": "code",
   "execution_count": 8,
   "metadata": {},
   "outputs": [
    {
     "name": "stdout",
     "output_type": "stream",
     "text": [
      "98.18621635437012 2.425919994255141\n"
     ]
    }
   ],
   "source": [
    "now = time.time()\n",
    "def func(i):\n",
    "    df = pd.concat([df_bbxaa_test.sample(n=int(weight_bbxaa), replace=True),\n",
    "                    df_bbh_tth_test.sample(n=int(weight_bbh_tth)),\n",
    "                    df_hhsm_b_test.sample(n=int(weight_hhsm_b)), \n",
    "                    df_hhsm_i_test.sample(n=int(weight_hhsm_i)), \n",
    "                    df_hhsm_t_test.sample(n=int(weight_hhsm_t))])\n",
    "    true_class = df['class'].values\n",
    "    predicted_class = classifier.predict(df.iloc[:, :-2].values)\n",
    "    conf = metrics.confusion_matrix(y_pred=predicted_class, y_true=true_class)[::-1].T\n",
    "    return conf[4-i][i]/np.sqrt(np.sum(conf[4-i]))\n",
    "\n",
    "results = Parallel(n_jobs=N_THREADS, backend=\"loky\")(delayed(func)(1) for _ in range(100))\n",
    "print(time.time() - now, np.mean(results))"
   ]
  },
  {
   "cell_type": "markdown",
   "metadata": {},
   "source": [
    "________________________\n",
    "## The kappa_u & kappa_lambda"
   ]
  },
  {
   "cell_type": "code",
   "execution_count": 9,
   "metadata": {},
   "outputs": [],
   "source": [
    "channels = [df_ku, df_hhsm_t, df_hhsm_i, df_hhsm_b, df_bbh_tth, df_bbxaa]\n",
    "df_train = pd.concat(channels, ignore_index=True)\n",
    "df_train = df_train.sample(frac=1).reset_index(drop=True)"
   ]
  },
  {
   "cell_type": "code",
   "execution_count": 10,
   "metadata": {
    "pycharm": {
     "is_executing": false,
     "name": "#%%\n"
    }
   },
   "outputs": [
    {
     "name": "stdout",
     "output_type": "stream",
     "text": [
      "Accuracy Score: 67.35% \n"
     ]
    },
    {
     "data": {
      "image/png": "[encoded data removed]",
      "text/plain": [
       "<Figure size 360x360 with 1 Axes>"
      ]
     },
     "metadata": {
      "needs_background": "light"
     },
     "output_type": "display_data"
    }
   ],
   "source": [
    "class_names = [r'$bb\\gamma\\gamma$', r'$Q\\bar{Q}h$', r'$hh^{gg\\rm F}_{\\rm box}$', r'$hh^{gg\\rm F}_{\\rm int}$', r'$hh^{gg\\rm F}_{\\rm tri}$', r'$u \\bar u hh$']\n",
    "filename = '../results/models/HL-LHC-BDT/hh-BDT-6class-ku.pickle.dat'\n",
    "shap_plot = '../plots/HL-LHC-shap-bbxaa-bbh-tth-hhsm-ku.pdf'\n",
    "\n",
    "classifier, x_test, y_test, shap_values_6u, X_shap_6u = runBDT(df_train, filename, depth=10)\n",
    "abs_shap(shap_values_6u, X_shap_6u, shap_plot, names=names, class_names=class_names, cmp=cmp_6)"
   ]
  },
  {
   "cell_type": "code",
   "execution_count": 11,
   "metadata": {},
   "outputs": [
    {
     "name": "stdout",
     "output_type": "stream",
     "text": [
      "Accuracy Score for ku: 24.32% \n",
      "Accuracy Score for hhsm triangle: 25.23% \n",
      "Accuracy Score for hhsm interference: 25.23% \n",
      "Accuracy Score for hhsm box: 27.52% \n",
      "Accuracy Score for bbh+tth: 69.43% \n",
      "Accuracy Score for bbxaa: 89.33% \n"
     ]
    }
   ],
   "source": [
    "ku_p = df_ku_test.sample(n=round(weight_ku), replace=True, random_state=seed).reset_index(drop=True)\n",
    "hhsm_t_p = df_hhsm_t_test.sample(n=round(weight_hhsm_t), replace=True, random_state=seed).reset_index(drop=True)\n",
    "hhsm_i_p = df_hhsm_i_test.sample(n=round(weight_hhsm_i), replace=True, random_state=seed).reset_index(drop=True)\n",
    "hhsm_i_b = df_hhsm_b_test.sample(n=round(weight_hhsm_b), replace=True, random_state=seed).reset_index(drop=True)\n",
    "bbh_tth_p = df_bbh_tth_test.sample(n=round(weight_bbh_tth), replace=True, random_state=seed).reset_index(drop=True)\n",
    "bbxaa_p = df_bbxaa_test.sample(n=round(weight_bbxaa), replace=True, random_state=seed).reset_index(drop=True)\n",
    "\n",
    "print('Accuracy Score for ku: {:4.2f}% '.format(100*metrics.accuracy_score(ku_p['class'].values, classifier.predict(ku_p.drop(columns=['class', 'weight']).values))))\n",
    "print('Accuracy Score for hhsm triangle: {:4.2f}% '.format(100*metrics.accuracy_score(hhsm_t_p['class'].values, classifier.predict(hhsm_t_p.drop(columns=['class', 'weight']).values))))\n",
    "print('Accuracy Score for hhsm interference: {:4.2f}% '.format(100*metrics.accuracy_score(hhsm_t_p['class'].values, classifier.predict(hhsm_t_p.drop(columns=['class', 'weight']).values))))\n",
    "print('Accuracy Score for hhsm box: {:4.2f}% '.format(100*metrics.accuracy_score(hhsm_i_b['class'].values, classifier.predict(hhsm_i_b.drop(columns=['class', 'weight']).values))))\n",
    "print('Accuracy Score for bbh+tth: {:4.2f}% '.format(100*metrics.accuracy_score(bbh_tth_p['class'].values, classifier.predict(bbh_tth_p.drop(columns=['class', 'weight']).values))))\n",
    "print('Accuracy Score for bbxaa: {:4.2f}% '.format(100*metrics.accuracy_score(bbxaa_p['class'].values, classifier.predict(bbxaa_p.drop(columns=['class', 'weight']).values))))"
   ]
  },
  {
   "cell_type": "code",
   "execution_count": 12,
   "metadata": {},
   "outputs": [
    {
     "data": {
      "text/html": [
       "<div>\n",
       "<style scoped>\n",
       "    .dataframe tbody tr th:only-of-type {\n",
       "        vertical-align: middle;\n",
       "    }\n",
       "\n",
       "    .dataframe tbody tr th {\n",
       "        vertical-align: top;\n",
       "    }\n",
       "\n",
       "    .dataframe thead th {\n",
       "        text-align: right;\n",
       "    }\n",
       "</style>\n",
       "<table border=\"1\" class=\"dataframe\">\n",
       "  <thead>\n",
       "    <tr style=\"text-align: right;\">\n",
       "      <th></th>\n",
       "      <th>ku</th>\n",
       "      <th>tri</th>\n",
       "      <th>int</th>\n",
       "      <th>box</th>\n",
       "      <th>tth+bbh</th>\n",
       "      <th>bbxaa</th>\n",
       "      <th>Z</th>\n",
       "    </tr>\n",
       "  </thead>\n",
       "  <tbody>\n",
       "    <tr>\n",
       "      <th>ku</th>\n",
       "      <td>297</td>\n",
       "      <td>3</td>\n",
       "      <td>22</td>\n",
       "      <td>62</td>\n",
       "      <td>121</td>\n",
       "      <td>654</td>\n",
       "      <td>8.723981</td>\n",
       "    </tr>\n",
       "    <tr>\n",
       "      <th>tri</th>\n",
       "      <td>201</td>\n",
       "      <td>26</td>\n",
       "      <td>86</td>\n",
       "      <td>75</td>\n",
       "      <td>166</td>\n",
       "      <td>1659</td>\n",
       "      <td>0.552691</td>\n",
       "    </tr>\n",
       "    <tr>\n",
       "      <th>int</th>\n",
       "      <td>106</td>\n",
       "      <td>13</td>\n",
       "      <td>80</td>\n",
       "      <td>103</td>\n",
       "      <td>96</td>\n",
       "      <td>868</td>\n",
       "      <td>2.248398</td>\n",
       "    </tr>\n",
       "    <tr>\n",
       "      <th>box</th>\n",
       "      <td>207</td>\n",
       "      <td>16</td>\n",
       "      <td>115</td>\n",
       "      <td>222</td>\n",
       "      <td>155</td>\n",
       "      <td>940</td>\n",
       "      <td>5.457000</td>\n",
       "    </tr>\n",
       "    <tr>\n",
       "      <th>tth+bbh</th>\n",
       "      <td>380</td>\n",
       "      <td>36</td>\n",
       "      <td>169</td>\n",
       "      <td>246</td>\n",
       "      <td>5368</td>\n",
       "      <td>30301</td>\n",
       "      <td>28.097396</td>\n",
       "    </tr>\n",
       "    <tr>\n",
       "      <th>bbxaa</th>\n",
       "      <td>145</td>\n",
       "      <td>10</td>\n",
       "      <td>41</td>\n",
       "      <td>49</td>\n",
       "      <td>1845</td>\n",
       "      <td>287412</td>\n",
       "      <td>534.169531</td>\n",
       "    </tr>\n",
       "    <tr>\n",
       "      <th>total</th>\n",
       "      <td>1336</td>\n",
       "      <td>104</td>\n",
       "      <td>513</td>\n",
       "      <td>757</td>\n",
       "      <td>7751</td>\n",
       "      <td>321834</td>\n",
       "      <td>0.000000</td>\n",
       "    </tr>\n",
       "  </tbody>\n",
       "</table>\n",
       "</div>"
      ],
      "text/plain": [
       "           ku  tri  int  box  tth+bbh   bbxaa           Z\n",
       "ku        297    3   22   62      121     654    8.723981\n",
       "tri       201   26   86   75      166    1659    0.552691\n",
       "int       106   13   80  103       96     868    2.248398\n",
       "box       207   16  115  222      155     940    5.457000\n",
       "tth+bbh   380   36  169  246     5368   30301   28.097396\n",
       "bbxaa     145   10   41   49     1845  287412  534.169531\n",
       "total    1336  104  513  757     7751  321834    0.000000"
      ]
     },
     "execution_count": 12,
     "metadata": {},
     "output_type": "execute_result"
    }
   ],
   "source": [
    "df_array = [df_bbxaa_test, df_bbh_tth_test, df_hhsm_b_test, df_hhsm_i_test, df_hhsm_t_test, df_ku_test]\n",
    "weight_array = [weight_bbxaa, weight_bbh_tth, weight_hhsm_b, weight_hhsm_i, weight_hhsm_t, weight_ku]\n",
    "keys = ['ku', 'tri', 'int', 'box', 'tth+bbh', 'bbxaa']\n",
    "filename = '../results/confusion/HL-LHC-BDT/hh-BDT-6class-ku.confusion.json'\n",
    "\n",
    "df = build_confusion(df_array, weight_array, classifier, filename, keys)\n",
    "df"
   ]
  },
  {
   "cell_type": "markdown",
   "metadata": {},
   "source": [
    "_________________________________\n",
    "## The kappa_d & kappa_lambda"
   ]
  },
  {
   "cell_type": "code",
   "execution_count": 13,
   "metadata": {},
   "outputs": [],
   "source": [
    "channels = [df_kd, df_hhsm_t, df_hhsm_i, df_hhsm_b, df_bbh_tth, df_bbxaa]\n",
    "df_train = pd.concat(channels, ignore_index=True)\n",
    "df_train = df_train.sample(frac=1).reset_index(drop=True)"
   ]
  },
  {
   "cell_type": "code",
   "execution_count": 14,
   "metadata": {
    "pycharm": {
     "is_executing": false,
     "name": "#%%\n"
    }
   },
   "outputs": [
    {
     "name": "stdout",
     "output_type": "stream",
     "text": [
      "Accuracy Score: 67.57% \n"
     ]
    },
    {
     "data": {
      "image/png": "[encoded data removed]",
      "text/plain": [
       "<Figure size 360x360 with 1 Axes>"
      ]
     },
     "metadata": {
      "needs_background": "light"
     },
     "output_type": "display_data"
    }
   ],
   "source": [
    "class_names = [r'$bb\\gamma\\gamma$', r'$Q\\bar{Q}h$', r'$hh^{gg\\rm F}_{\\rm box}$', r'$hh^{gg\\rm F}_{\\rm int}$', r'$hh^{gg\\rm F}_{\\rm tri}$', r'$d \\bar d hh$']\n",
    "filename = '../results/models/HL-LHC-BDT/hh-BDT-6class-kd.pickle.dat'\n",
    "shap_plot = '../plots/HL-LHC-shap-bbxaa-bbh-tth-hhsm-kd.pdf'\n",
    "\n",
    "classifier, x_test, y_test, shap_values_6d, X_shap_6d = runBDT(df_train, filename, depth=10)\n",
    "abs_shap(shap_values_6d, X_shap_6d, shap_plot, names=names, class_names=class_names, cmp=cmp_6)"
   ]
  },
  {
   "cell_type": "code",
   "execution_count": 15,
   "metadata": {},
   "outputs": [
    {
     "name": "stdout",
     "output_type": "stream",
     "text": [
      "Accuracy Score for ku: 22.72% \n",
      "Accuracy Score for hhsm triangle: 20.56% \n",
      "Accuracy Score for hhsm interference: 20.56% \n",
      "Accuracy Score for hhsm box: 27.52% \n",
      "Accuracy Score for bbh+tth: 69.69% \n",
      "Accuracy Score for bbxaa: 89.17% \n"
     ]
    }
   ],
   "source": [
    "kd_p = df_kd_test.sample(n=round(weight_kd), replace=True, random_state=seed).reset_index(drop=True)\n",
    "hhsm_t_p = df_hhsm_t_test.sample(n=round(weight_hhsm_t), replace=True, random_state=seed).reset_index(drop=True)\n",
    "hhsm_i_p = df_hhsm_i_test.sample(n=round(weight_hhsm_i), replace=True, random_state=seed).reset_index(drop=True)\n",
    "hhsm_i_b = df_hhsm_b_test.sample(n=round(weight_hhsm_b), replace=True, random_state=seed).reset_index(drop=True)\n",
    "bbh_tth_p = df_bbh_tth_test.sample(n=round(weight_bbh_tth), replace=True, random_state=seed).reset_index(drop=True)\n",
    "bbxaa_p = df_bbxaa_test.sample(n=round(weight_bbxaa), replace=True, random_state=seed).reset_index(drop=True)\n",
    "\n",
    "print('Accuracy Score for ku: {:4.2f}% '.format(100*metrics.accuracy_score(kd_p['class'].values, classifier.predict(kd_p.drop(columns=['class', 'weight']).values))))\n",
    "print('Accuracy Score for hhsm triangle: {:4.2f}% '.format(100*metrics.accuracy_score(hhsm_t_p['class'].values, classifier.predict(hhsm_t_p.drop(columns=['class', 'weight']).values))))\n",
    "print('Accuracy Score for hhsm interference: {:4.2f}% '.format(100*metrics.accuracy_score(hhsm_t_p['class'].values, classifier.predict(hhsm_t_p.drop(columns=['class', 'weight']).values))))\n",
    "print('Accuracy Score for hhsm box: {:4.2f}% '.format(100*metrics.accuracy_score(hhsm_i_b['class'].values, classifier.predict(hhsm_i_b.drop(columns=['class', 'weight']).values))))\n",
    "print('Accuracy Score for bbh+tth: {:4.2f}% '.format(100*metrics.accuracy_score(bbh_tth_p['class'].values, classifier.predict(bbh_tth_p.drop(columns=['class', 'weight']).values))))\n",
    "print('Accuracy Score for bbxaa: {:4.2f}% '.format(100*metrics.accuracy_score(bbxaa_p['class'].values, classifier.predict(bbxaa_p.drop(columns=['class', 'weight']).values))))"
   ]
  },
  {
   "cell_type": "code",
   "execution_count": 16,
   "metadata": {},
   "outputs": [
    {
     "data": {
      "text/html": [
       "<div>\n",
       "<style scoped>\n",
       "    .dataframe tbody tr th:only-of-type {\n",
       "        vertical-align: middle;\n",
       "    }\n",
       "\n",
       "    .dataframe tbody tr th {\n",
       "        vertical-align: top;\n",
       "    }\n",
       "\n",
       "    .dataframe thead th {\n",
       "        text-align: right;\n",
       "    }\n",
       "</style>\n",
       "<table border=\"1\" class=\"dataframe\">\n",
       "  <thead>\n",
       "    <tr style=\"text-align: right;\">\n",
       "      <th></th>\n",
       "      <th>kd</th>\n",
       "      <th>tri</th>\n",
       "      <th>int</th>\n",
       "      <th>box</th>\n",
       "      <th>tth+bbh</th>\n",
       "      <th>bbxaa</th>\n",
       "      <th>Z</th>\n",
       "    </tr>\n",
       "  </thead>\n",
       "  <tbody>\n",
       "    <tr>\n",
       "      <th>kd</th>\n",
       "      <td>175</td>\n",
       "      <td>4</td>\n",
       "      <td>25</td>\n",
       "      <td>64</td>\n",
       "      <td>140</td>\n",
       "      <td>816</td>\n",
       "      <td>5.002042</td>\n",
       "    </tr>\n",
       "    <tr>\n",
       "      <th>tri</th>\n",
       "      <td>117</td>\n",
       "      <td>25</td>\n",
       "      <td>84</td>\n",
       "      <td>73</td>\n",
       "      <td>156</td>\n",
       "      <td>1533</td>\n",
       "      <td>0.560702</td>\n",
       "    </tr>\n",
       "    <tr>\n",
       "      <th>int</th>\n",
       "      <td>68</td>\n",
       "      <td>14</td>\n",
       "      <td>84</td>\n",
       "      <td>109</td>\n",
       "      <td>100</td>\n",
       "      <td>858</td>\n",
       "      <td>2.392201</td>\n",
       "    </tr>\n",
       "    <tr>\n",
       "      <th>box</th>\n",
       "      <td>120</td>\n",
       "      <td>16</td>\n",
       "      <td>114</td>\n",
       "      <td>221</td>\n",
       "      <td>150</td>\n",
       "      <td>919</td>\n",
       "      <td>5.631601</td>\n",
       "    </tr>\n",
       "    <tr>\n",
       "      <th>tth+bbh</th>\n",
       "      <td>229</td>\n",
       "      <td>37</td>\n",
       "      <td>171</td>\n",
       "      <td>247</td>\n",
       "      <td>5385</td>\n",
       "      <td>30792</td>\n",
       "      <td>28.048016</td>\n",
       "    </tr>\n",
       "    <tr>\n",
       "      <th>bbxaa</th>\n",
       "      <td>84</td>\n",
       "      <td>10</td>\n",
       "      <td>40</td>\n",
       "      <td>49</td>\n",
       "      <td>1834</td>\n",
       "      <td>286873</td>\n",
       "      <td>533.732220</td>\n",
       "    </tr>\n",
       "    <tr>\n",
       "      <th>total</th>\n",
       "      <td>793</td>\n",
       "      <td>106</td>\n",
       "      <td>518</td>\n",
       "      <td>763</td>\n",
       "      <td>7765</td>\n",
       "      <td>321791</td>\n",
       "      <td>0.000000</td>\n",
       "    </tr>\n",
       "  </tbody>\n",
       "</table>\n",
       "</div>"
      ],
      "text/plain": [
       "          kd  tri  int  box  tth+bbh   bbxaa           Z\n",
       "kd       175    4   25   64      140     816    5.002042\n",
       "tri      117   25   84   73      156    1533    0.560702\n",
       "int       68   14   84  109      100     858    2.392201\n",
       "box      120   16  114  221      150     919    5.631601\n",
       "tth+bbh  229   37  171  247     5385   30792   28.048016\n",
       "bbxaa     84   10   40   49     1834  286873  533.732220\n",
       "total    793  106  518  763     7765  321791    0.000000"
      ]
     },
     "execution_count": 16,
     "metadata": {},
     "output_type": "execute_result"
    }
   ],
   "source": [
    "df_array = [df_bbxaa_test, df_bbh_tth_test, df_hhsm_b_test, df_hhsm_i_test, df_hhsm_t_test, df_kd_test]\n",
    "weight_array = [weight_bbxaa, weight_bbh_tth, weight_hhsm_b, weight_hhsm_i, weight_hhsm_t, weight_kd]\n",
    "keys = ['kd', 'tri', 'int', 'box', 'tth+bbh', 'bbxaa']\n",
    "filename = '../results/confusion/HL-LHC-BDT/hh-BDT-6class-kd.confusion.json'\n",
    "\n",
    "df = build_confusion(df_array, weight_array, classifier, filename, keys)\n",
    "df"
   ]
  },
  {
   "cell_type": "markdown",
   "metadata": {},
   "source": [
    "________________________\n",
    "## The kappa_u, kappa_d and kappa_lambda"
   ]
  },
  {
   "cell_type": "code",
   "execution_count": 17,
   "metadata": {},
   "outputs": [],
   "source": [
    "df_ku['class'] = 6\n",
    "df_ku_test['class'] = 6\n",
    "channels = [df_ku, df_kd, df_hhsm_t, df_hhsm_i, df_hhsm_b, df_bbh_tth, df_bbxaa]\n",
    "df_train = pd.concat(channels, ignore_index=True)\n",
    "df_train = df_train.sample(frac=1).reset_index(drop=True)"
   ]
  },
  {
   "cell_type": "code",
   "execution_count": 18,
   "metadata": {
    "pycharm": {
     "is_executing": false,
     "name": "#%%\n"
    }
   },
   "outputs": [
    {
     "name": "stdout",
     "output_type": "stream",
     "text": [
      "Accuracy Score: 63.07% \n"
     ]
    },
    {
     "data": {
      "image/png": "[encoded data removed]",
      "text/plain": [
       "<Figure size 360x360 with 1 Axes>"
      ]
     },
     "metadata": {
      "needs_background": "light"
     },
     "output_type": "display_data"
    }
   ],
   "source": [
    "class_names = [r'$bb\\gamma\\gamma$', r'$Q\\bar{Q}h$', r'$hh^{gg\\rm F}_{\\rm box}$', r'$hh^{gg\\rm F}_{\\rm int}$', r'$hh^{gg\\rm F}_{\\rm tri}$', r'$d \\bar d hh$', r'$u \\bar u hh$']\n",
    "filename = '../results/models/HL-LHC-BDT/hh-BDT-7class-ku-kd.pickle.dat'\n",
    "shap_plot = '../plots/HL-LHC-shap-bbxaa-bbh-tth-hhsm-ku-kd-kl.pdf'\n",
    "\n",
    "classifier, x_test, y_test, shap_values_7ud, X_shap_7ud = runBDT(df_train, filename, depth=10)\n",
    "abs_shap(shap_values_7ud, X_shap_7ud, shap_plot, names=names, class_names=class_names, cmp=cmp_7)"
   ]
  },
  {
   "cell_type": "code",
   "execution_count": 19,
   "metadata": {},
   "outputs": [
    {
     "name": "stdout",
     "output_type": "stream",
     "text": [
      "Accuracy Score for ku: 14.84% \n",
      "Accuracy Score for kd: 12.61% \n",
      "Accuracy Score for hhsm triangle: 24.30% \n",
      "Accuracy Score for hhsm interference: 24.30% \n",
      "Accuracy Score for hhsm box: 27.00% \n",
      "Accuracy Score for bbh+tth: 69.27% \n",
      "Accuracy Score for bbxaa: 89.15% \n"
     ]
    }
   ],
   "source": [
    "ku_p = df_ku_test.sample(n=round(weight_ku), replace=True, random_state=seed).reset_index(drop=True)\n",
    "kd_p = df_kd_test.sample(n=round(weight_kd), replace=True, random_state=seed).reset_index(drop=True)\n",
    "hhsm_t_p = df_hhsm_t_test.sample(n=round(weight_hhsm_t), replace=True, random_state=seed).reset_index(drop=True)\n",
    "hhsm_i_p = df_hhsm_i_test.sample(n=round(weight_hhsm_i), replace=True, random_state=seed).reset_index(drop=True)\n",
    "hhsm_i_b = df_hhsm_b_test.sample(n=round(weight_hhsm_b), replace=True, random_state=seed).reset_index(drop=True)\n",
    "bbh_tth_p = df_bbh_tth_test.sample(n=round(weight_bbh_tth), replace=True, random_state=seed).reset_index(drop=True)\n",
    "bbxaa_p = df_bbxaa_test.sample(n=round(weight_bbxaa), replace=True, random_state=seed).reset_index(drop=True)\n",
    "\n",
    "print('Accuracy Score for ku: {:4.2f}% '.format(100*metrics.accuracy_score(ku_p['class'].values, classifier.predict(ku_p.drop(columns=['class', 'weight']).values))))\n",
    "print('Accuracy Score for kd: {:4.2f}% '.format(100*metrics.accuracy_score(kd_p['class'].values, classifier.predict(kd_p.drop(columns=['class', 'weight']).values))))\n",
    "print('Accuracy Score for hhsm triangle: {:4.2f}% '.format(100*metrics.accuracy_score(hhsm_t_p['class'].values, classifier.predict(hhsm_t_p.drop(columns=['class', 'weight']).values))))\n",
    "print('Accuracy Score for hhsm interference: {:4.2f}% '.format(100*metrics.accuracy_score(hhsm_t_p['class'].values, classifier.predict(hhsm_t_p.drop(columns=['class', 'weight']).values))))\n",
    "print('Accuracy Score for hhsm box: {:4.2f}% '.format(100*metrics.accuracy_score(hhsm_i_b['class'].values, classifier.predict(hhsm_i_b.drop(columns=['class', 'weight']).values))))\n",
    "print('Accuracy Score for bbh+tth: {:4.2f}% '.format(100*metrics.accuracy_score(bbh_tth_p['class'].values, classifier.predict(bbh_tth_p.drop(columns=['class', 'weight']).values))))\n",
    "print('Accuracy Score for bbxaa: {:4.2f}% '.format(100*metrics.accuracy_score(bbxaa_p['class'].values, classifier.predict(bbxaa_p.drop(columns=['class', 'weight']).values))))"
   ]
  },
  {
   "cell_type": "code",
   "execution_count": 20,
   "metadata": {},
   "outputs": [
    {
     "data": {
      "text/html": [
       "<div>\n",
       "<style scoped>\n",
       "    .dataframe tbody tr th:only-of-type {\n",
       "        vertical-align: middle;\n",
       "    }\n",
       "\n",
       "    .dataframe tbody tr th {\n",
       "        vertical-align: top;\n",
       "    }\n",
       "\n",
       "    .dataframe thead th {\n",
       "        text-align: right;\n",
       "    }\n",
       "</style>\n",
       "<table border=\"1\" class=\"dataframe\">\n",
       "  <thead>\n",
       "    <tr style=\"text-align: right;\">\n",
       "      <th></th>\n",
       "      <th>ku</th>\n",
       "      <th>kd</th>\n",
       "      <th>tri</th>\n",
       "      <th>int</th>\n",
       "      <th>box</th>\n",
       "      <th>tth+bbh</th>\n",
       "      <th>bbxaa</th>\n",
       "      <th>Z</th>\n",
       "    </tr>\n",
       "  </thead>\n",
       "  <tbody>\n",
       "    <tr>\n",
       "      <th>ku</th>\n",
       "      <td>181</td>\n",
       "      <td>101</td>\n",
       "      <td>2</td>\n",
       "      <td>13</td>\n",
       "      <td>37</td>\n",
       "      <td>75</td>\n",
       "      <td>469</td>\n",
       "      <td>6.108454</td>\n",
       "    </tr>\n",
       "    <tr>\n",
       "      <th>kd</th>\n",
       "      <td>168</td>\n",
       "      <td>96</td>\n",
       "      <td>4</td>\n",
       "      <td>18</td>\n",
       "      <td>41</td>\n",
       "      <td>95</td>\n",
       "      <td>624</td>\n",
       "      <td>2.968284</td>\n",
       "    </tr>\n",
       "    <tr>\n",
       "      <th>tri</th>\n",
       "      <td>195</td>\n",
       "      <td>119</td>\n",
       "      <td>26</td>\n",
       "      <td>88</td>\n",
       "      <td>78</td>\n",
       "      <td>157</td>\n",
       "      <td>1457</td>\n",
       "      <td>0.564684</td>\n",
       "    </tr>\n",
       "    <tr>\n",
       "      <th>int</th>\n",
       "      <td>105</td>\n",
       "      <td>65</td>\n",
       "      <td>13</td>\n",
       "      <td>80</td>\n",
       "      <td>106</td>\n",
       "      <td>88</td>\n",
       "      <td>782</td>\n",
       "      <td>2.272764</td>\n",
       "    </tr>\n",
       "    <tr>\n",
       "      <th>box</th>\n",
       "      <td>190</td>\n",
       "      <td>110</td>\n",
       "      <td>15</td>\n",
       "      <td>109</td>\n",
       "      <td>208</td>\n",
       "      <td>145</td>\n",
       "      <td>923</td>\n",
       "      <td>5.044741</td>\n",
       "    </tr>\n",
       "    <tr>\n",
       "      <th>tth+bbh</th>\n",
       "      <td>371</td>\n",
       "      <td>220</td>\n",
       "      <td>36</td>\n",
       "      <td>170</td>\n",
       "      <td>245</td>\n",
       "      <td>5388</td>\n",
       "      <td>30683</td>\n",
       "      <td>27.968203</td>\n",
       "    </tr>\n",
       "    <tr>\n",
       "      <th>bbxaa</th>\n",
       "      <td>141</td>\n",
       "      <td>83</td>\n",
       "      <td>10</td>\n",
       "      <td>40</td>\n",
       "      <td>47</td>\n",
       "      <td>1812</td>\n",
       "      <td>286870</td>\n",
       "      <td>533.622285</td>\n",
       "    </tr>\n",
       "    <tr>\n",
       "      <th>total</th>\n",
       "      <td>1351</td>\n",
       "      <td>794</td>\n",
       "      <td>106</td>\n",
       "      <td>518</td>\n",
       "      <td>762</td>\n",
       "      <td>7760</td>\n",
       "      <td>321808</td>\n",
       "      <td>0.000000</td>\n",
       "    </tr>\n",
       "  </tbody>\n",
       "</table>\n",
       "</div>"
      ],
      "text/plain": [
       "           ku   kd  tri  int  box  tth+bbh   bbxaa           Z\n",
       "ku        181  101    2   13   37       75     469    6.108454\n",
       "kd        168   96    4   18   41       95     624    2.968284\n",
       "tri       195  119   26   88   78      157    1457    0.564684\n",
       "int       105   65   13   80  106       88     782    2.272764\n",
       "box       190  110   15  109  208      145     923    5.044741\n",
       "tth+bbh   371  220   36  170  245     5388   30683   27.968203\n",
       "bbxaa     141   83   10   40   47     1812  286870  533.622285\n",
       "total    1351  794  106  518  762     7760  321808    0.000000"
      ]
     },
     "execution_count": 20,
     "metadata": {},
     "output_type": "execute_result"
    }
   ],
   "source": [
    "df_array = [df_bbxaa_test, df_bbh_tth_test, df_hhsm_b_test, df_hhsm_i_test, df_hhsm_t_test, df_kd_test, df_ku_test]\n",
    "weight_array = [weight_bbxaa, weight_bbh_tth, weight_hhsm_b, weight_hhsm_i, weight_hhsm_t, weight_kd, weight_ku]\n",
    "keys = ['ku', 'kd', 'tri', 'int', 'box', 'tth+bbh', 'bbxaa']\n",
    "filename = '../results/confusion/HL-LHC-BDT/hh-BDT-7class-ku-kd.confusion.json'\n",
    "\n",
    "df = build_confusion(df_array, weight_array, classifier, filename, keys)\n",
    "df"
   ]
  },
  {
   "cell_type": "markdown",
   "metadata": {},
   "source": [
    "_____________________________\n",
    "## Standard Model di-Higgs"
   ]
  },
  {
   "cell_type": "code",
   "execution_count": 21,
   "metadata": {},
   "outputs": [],
   "source": [
    "channels = [df_hhsm, df_bbh_tth, df_bbxaa]\n",
    "df_train = pd.concat(channels, ignore_index=True)\n",
    "df_train = df_train.sample(frac=1).reset_index(drop=True)"
   ]
  },
  {
   "cell_type": "code",
   "execution_count": 22,
   "metadata": {
    "pycharm": {
     "is_executing": false,
     "name": "#%%\n"
    }
   },
   "outputs": [
    {
     "name": "stdout",
     "output_type": "stream",
     "text": [
      "Accuracy Score: 83.45% \n"
     ]
    },
    {
     "data": {
      "image/png": "[encoded data removed]",
      "text/plain": [
       "<Figure size 360x360 with 1 Axes>"
      ]
     },
     "metadata": {
      "needs_background": "light"
     },
     "output_type": "display_data"
    }
   ],
   "source": [
    "class_names = [r'$bb\\gamma\\gamma$', r'$Q\\bar{Q}h$', r'$hh^{gg\\rm F}$']\n",
    "filename = '../results/models/HL-LHC-BDT/hh-BDT-3class-hhsm-SM.pickle.dat'\n",
    "shap_plot = '../plots/HL-LHC-shap-bbxaa-bbh-tth-hhsm-SM.pdf'\n",
    "\n",
    "classifier, x_test, y_test, shap_values_3, X_shap_3 = runBDT(df_train, filename, depth=10)\n",
    "abs_shap(shap_values_3, X_shap_3, shap_plot, names=names, class_names=class_names, cmp=cmp_5)"
   ]
  },
  {
   "cell_type": "code",
   "execution_count": 23,
   "metadata": {},
   "outputs": [
    {
     "name": "stdout",
     "output_type": "stream",
     "text": [
      "Accuracy Score for hhsm: 38.20% \n",
      "Accuracy Score for bbh+tth: 73.70% \n",
      "Accuracy Score for bbxaa: 89.55% \n"
     ]
    }
   ],
   "source": [
    "hhsm_p = df_hhsm_test.sample(n=round(weight_hhsm), replace=True, random_state=seed).reset_index(drop=True)\n",
    "bbh_tth_p = df_bbh_tth_test.sample(n=round(weight_bbh_tth), replace=True, random_state=seed).reset_index(drop=True)\n",
    "bbxaa_p = df_bbxaa_test.sample(n=round(weight_bbxaa), replace=True, random_state=seed).reset_index(drop=True)\n",
    "\n",
    "print('Accuracy Score for hhsm: {:4.2f}% '.format(100*metrics.accuracy_score(hhsm_p['class'].values, classifier.predict(hhsm_p.drop(columns=['class', 'weight']).values))))\n",
    "print('Accuracy Score for bbh+tth: {:4.2f}% '.format(100*metrics.accuracy_score(bbh_tth_p['class'].values, classifier.predict(bbh_tth_p.drop(columns=['class', 'weight']).values))))\n",
    "print('Accuracy Score for bbxaa: {:4.2f}% '.format(100*metrics.accuracy_score(bbxaa_p['class'].values, classifier.predict(bbxaa_p.drop(columns=['class', 'weight']).values))))"
   ]
  },
  {
   "cell_type": "code",
   "execution_count": 24,
   "metadata": {},
   "outputs": [
    {
     "data": {
      "text/html": [
       "<div>\n",
       "<style scoped>\n",
       "    .dataframe tbody tr th:only-of-type {\n",
       "        vertical-align: middle;\n",
       "    }\n",
       "\n",
       "    .dataframe tbody tr th {\n",
       "        vertical-align: top;\n",
       "    }\n",
       "\n",
       "    .dataframe thead th {\n",
       "        text-align: right;\n",
       "    }\n",
       "</style>\n",
       "<table border=\"1\" class=\"dataframe\">\n",
       "  <thead>\n",
       "    <tr style=\"text-align: right;\">\n",
       "      <th></th>\n",
       "      <th>hhsm</th>\n",
       "      <th>tth+bbh</th>\n",
       "      <th>bbxaa</th>\n",
       "      <th>Z</th>\n",
       "    </tr>\n",
       "  </thead>\n",
       "  <tbody>\n",
       "    <tr>\n",
       "      <th>hhsm</th>\n",
       "      <td>142</td>\n",
       "      <td>183</td>\n",
       "      <td>1290</td>\n",
       "      <td>3.533475</td>\n",
       "    </tr>\n",
       "    <tr>\n",
       "      <th>tth+bbh</th>\n",
       "      <td>177</td>\n",
       "      <td>5712</td>\n",
       "      <td>32338</td>\n",
       "      <td>29.214812</td>\n",
       "    </tr>\n",
       "    <tr>\n",
       "      <th>bbxaa</th>\n",
       "      <td>34</td>\n",
       "      <td>1861</td>\n",
       "      <td>288150</td>\n",
       "      <td>535.039607</td>\n",
       "    </tr>\n",
       "    <tr>\n",
       "      <th>total</th>\n",
       "      <td>353</td>\n",
       "      <td>7756</td>\n",
       "      <td>321778</td>\n",
       "      <td>0.000000</td>\n",
       "    </tr>\n",
       "  </tbody>\n",
       "</table>\n",
       "</div>"
      ],
      "text/plain": [
       "         hhsm  tth+bbh   bbxaa           Z\n",
       "hhsm      142      183    1290    3.533475\n",
       "tth+bbh   177     5712   32338   29.214812\n",
       "bbxaa      34     1861  288150  535.039607\n",
       "total     353     7756  321778    0.000000"
      ]
     },
     "execution_count": 24,
     "metadata": {},
     "output_type": "execute_result"
    }
   ],
   "source": [
    "df_array = [df_bbxaa_test, df_bbh_tth_test, df_hhsm_test]\n",
    "weight_array = [weight_bbxaa, weight_bbh_tth, weight_hhsm]\n",
    "keys = ['hhsm', 'tth+bbh', 'bbxaa']\n",
    "filename = '../results/confusion/HL-LHC-BDT/hh-BDT-3class-hhsm-SM.confusion.json'\n",
    "\n",
    "df = build_confusion(df_array, weight_array, classifier, filename, keys)\n",
    "df"
   ]
  },
  {
   "cell_type": "markdown",
   "metadata": {},
   "source": [
    "### Checks for the confusion matrix"
   ]
  },
  {
   "cell_type": "code",
   "execution_count": 25,
   "metadata": {},
   "outputs": [
    {
     "name": "stdout",
     "output_type": "stream",
     "text": [
      "186.54820227622986 4.772608539390341\n"
     ]
    }
   ],
   "source": [
    "now = time.time()\n",
    "def func(i):\n",
    "    df = pd.concat([df_bbxaa_test.sample(n=int(weight_bbxaa), replace=True), df_bbh_tth_test.sample(n=int(weight_bbh_tth)), df_hhsm.sample(n=int(weight_hhsm))])\n",
    "    true_class = df['class'].values\n",
    "    predicted_class = classifier.predict(df.iloc[:, :-2].values)\n",
    "    conf = metrics.confusion_matrix(y_pred=predicted_class, y_true=true_class)[::-1].T\n",
    "    return conf[2][0]/np.sqrt(np.sum(conf[2]))\n",
    "\n",
    "results = Parallel(n_jobs=N_THREADS, backend=\"loky\")(delayed(func)(1) for _ in range(500))\n",
    "print(time.time() - now, np.mean(results))"
   ]
  }
 ],
 "metadata": {
  "kernelspec": {
   "display_name": "PyCharm (Tutorials)",
   "language": "python",
   "name": "pycharm-38c7cf03"
  },
  "language_info": {
   "codemirror_mode": {
    "name": "ipython",
    "version": 3
   },
   "file_extension": ".py",
   "mimetype": "text/x-python",
   "name": "python",
   "nbconvert_exporter": "python",
   "pygments_lexer": "ipython3",
   "version": "3.6.8"
  }
 },
 "nbformat": 4,
 "nbformat_minor": 4
}
