{
 "cells": [
  {
   "cell_type": "code",
   "execution_count": 1,
   "metadata": {},
   "outputs": [],
   "source": [
    "#####################################################################\n",
    "# This notebook is authored by: Ayan Paul & Lina Alasfar            #\n",
    "# Date: May 2022                                                    #\n",
    "# If you use this code or the results from this work please cite:   # \n",
    "# Machine learning the trilinear and light-quark Yukawa couplings   #\n",
    "# from Higgs pair kinematic shapes                                  #\n",
    "# Lina Alasfar, Ramona Gröber, Christophe Grojean, Ayan Paul        #\n",
    "# and Zuoni Qian                                                    #\n",
    "# arXiv:2207.04157 (https://arxiv.org/abs/2207.04157)               #  \n",
    "#####################################################################\n",
    "\n",
    "import numpy as np\n",
    "import pandas as pd\n",
    "import xgboost as xgb\n",
    "from sklearn import ensemble\n",
    "import sklearn.model_selection as ms\n",
    "from sklearn import metrics\n",
    "import shap\n",
    "import matplotlib.pyplot as plt\n",
    "import os\n",
    "import math as m\n",
    "import collections\n",
    "import pickle\n",
    "from matplotlib.colors import ListedColormap, LinearSegmentedColormap\n",
    "from colour import Color\n",
    "from matplotlib import rc\n",
    "import sys\n",
    "import time\n",
    "from joblib import Parallel, delayed\n",
    "\n",
    "plt.rcParams['text.latex.preamble'] = r\"\\usepackage{amsmath}\"\n",
    "plt.rcParams['font.family'] = 'monospace'\n",
    "\n",
    "\n",
    "# To supress warnings from shap\n",
    "if not sys.warnoptions:\n",
    "    import warnings\n",
    "    warnings.simplefilter(\"ignore\")\n",
    "\n",
    "N_THREADS = 25 ## Change for reducing load on CPU\n",
    "os.environ['OMP_NUM_THREADS'] = str(N_THREADS)\n",
    "seed = 42\n",
    "\n",
    "colors = ['#3f7f93','#da3b46']\n",
    "cmp_2 = LinearSegmentedColormap.from_list('my_list', [Color(c1).rgb for c1 in colors], N=len(colors))\n",
    "\n",
    "colors = ['#3f7f93','#da3b46','#98b83b']\n",
    "cmp_3 = LinearSegmentedColormap.from_list('my_list', [Color(c1).rgb for c1 in colors], N=len(colors))\n",
    "\n",
    "colors = ['#3f7f93','#da3b46','#F6AE2D', '#98b83b']\n",
    "cmp_4 = LinearSegmentedColormap.from_list('my_list', [Color(c1).rgb for c1 in colors], N=len(colors))\n",
    "\n",
    "colors = ['#3f7f93','#da3b46','#F6AE2D', '#98b83b', '#825FC3']\n",
    "cmp_5 = LinearSegmentedColormap.from_list('my_list', [Color(c1).rgb for c1 in colors], N=len(colors))\n",
    "\n",
    "colors = ['#60a0af', '#af6079', '#a8b96f', '#fcb880', '#FDD7D0', '#a5d6e0']\n",
    "cmp_6 = LinearSegmentedColormap.from_list('my_list', [Color(c1).rgb for c1 in colors], N=len(colors))\n",
    "\n",
    "colors = ['#60a0af', '#af6079', '#a8b96f', '#fcb880', '#FDD7D0', '#a5d6e0', '#825FC3']\n",
    "cmp_7 = LinearSegmentedColormap.from_list('my_list', [Color(c1).rgb for c1 in colors], N=len(colors))\n",
    "\n",
    "# how far in eta the endcap goes\n",
    "ENDCAP = 4"
   ]
  },
  {
   "cell_type": "code",
   "execution_count": 2,
   "metadata": {},
   "outputs": [],
   "source": [
    "def fileparser(path, dlist, sclass, sample, L=1, cut=False):\n",
    "    \"\"\" The fileparser to read the events from a csv\n",
    "        argument:\n",
    "            path: the path to the file\n",
    "            dlist: the list of variables to be excluded\n",
    "            sample: the number of events that will be the train sample.\n",
    "            L: Luminosity scaling\n",
    "        returns:\n",
    "            df_train: the training dataframe\n",
    "            df_test: the testing dataframe\n",
    "            weight: the weight (related to crosssection)\n",
    "    \"\"\"\n",
    "    df = pd.read_csv(path)\n",
    "    \n",
    "    n = len(df)\n",
    "    df['class'] = sclass\n",
    "    weight = int(round(np.abs(df['weight'].sum()) * 3. * 1e7 * L)) ## The abs(mean()) is taken to make the weight of ybyt +ve\n",
    "    if cut: \n",
    "        N_cut = df.drop(df[((np.abs(df['etaa1'])>ENDCAP) | (np.abs(df['etaa2'])>ENDCAP) | (np.abs(df['etab1'])>ENDCAP) | (np.abs(df['etab2'])>ENDCAP))].index).shape[0]/df.shape[0]\n",
    "        df = df.drop(df[((np.abs(df['etaa1'])>ENDCAP) | (np.abs(df['etaa2'])>ENDCAP) | (np.abs(df['etab1'])>ENDCAP) | (np.abs(df['etab2'])>ENDCAP))].index).shape[0]\n",
    "        weight /= N_cut\n",
    "        \n",
    "    df_train = df.sample(n=sample, random_state=seed)\n",
    "    df_test = df.drop(df_train.index)\n",
    "        \n",
    "    df_train.drop(columns=dlist, inplace=True)\n",
    "    df_test.drop(columns=dlist, inplace=True)\n",
    "    return df_train, df_test, weight\n",
    "\n",
    "\n",
    "def runBDT(df, filename='', rf=False, depth=10, sample=1, seed=seed):\n",
    "    \"\"\" The BDT/RF runner\n",
    "        argument:\n",
    "            df: the dataframe with all the events\n",
    "            filename: the name of the pickle file to store the model in\n",
    "            rf: a bolean to toggle between BDT and Random Forest classifiers\n",
    "            sample: The fraction of variables to sample\n",
    "            seed: the seed for the random number generator\n",
    "        returns:\n",
    "            classifier: the classifier\n",
    "            x_test: the features for the test set\n",
    "            y_test: the labels for the test set\n",
    "            shap_values: the SHAP values\n",
    "            X_shap: the feature set with which the shap values have been computed\n",
    "    \"\"\"\n",
    "    mshap = True if depth <= 10 else False\n",
    "    df = df.sample(frac=sample)\n",
    "    nchannels = len(df['class'].unique())\n",
    "    X = df.drop(columns=['class', 'weight'])\n",
    "    y = df['class'].values\n",
    "\n",
    "    # Split for training and testing\n",
    "    x_train, x_test, y_train, y_test = ms.train_test_split(X.values, y, test_size=0.2, random_state=seed)\n",
    "    eval_set = [(x_train, y_train), (x_test, y_test)]\n",
    "    \n",
    "    # Fit the decision tree\n",
    "    if rf: \n",
    "        classifier = ensemble.RandomForestClassifier(max_depth=depth, n_estimators=1000, criterion='gini', n_jobs=int(N_THREADS/2), random_state=seed)\n",
    "        classifier = classifier.fit(x_train, y_train)\n",
    "    else: \n",
    "        classifier = xgb.XGBClassifier(max_depth=depth, learning_rate=0.1, objective='multi:softprob', num_class=nchannels,\n",
    "                                       n_jobs=N_THREADS, subsample=1, colsample_bytree=1, n_estimators=5000, random_state=seed)\n",
    "        classifier = classifier.fit(x_train, y_train, early_stopping_rounds=30, eval_set=eval_set,\n",
    "                                eval_metric=[\"merror\", \"mlogloss\"], verbose=False)\n",
    "    \n",
    "    # Predictions\n",
    "    y_pred = classifier.predict(x_test)\n",
    "    print('Accuracy Score: {:4.2f}% '.format(100*metrics.accuracy_score(y_test, y_pred)))\n",
    "    if filename != '': pickle.dump(classifier, open(filename, 'wb'))\n",
    "    \n",
    "    # Calculate the SHAP scores\n",
    "    if mshap:\n",
    "        X_shap = pd.DataFrame(x_test, columns=df.drop(columns=['class', 'weight']).columns)\n",
    "        explainer = shap.TreeExplainer(classifier)\n",
    "        shap_values = explainer.shap_values(X_shap)\n",
    "    else:\n",
    "        shap_values = []\n",
    "        X_shap = pd.DataFrame()\n",
    "        \n",
    "    return classifier, x_test, y_test, shap_values, X_shap\n",
    "\n",
    "\n",
    "def eval_training(classifier):\n",
    "    \"\"\" Evaluate the training\n",
    "        argument:\n",
    "            classifier: the BDT classifier\n",
    "    \"\"\"\n",
    "    results = classifier.evals_result()\n",
    "    epochs = len(results['validation_0']['merror'])\n",
    "    x_axis = range(0, epochs)\n",
    "\n",
    "    # plot log loss\n",
    "    plt.figure(figsize=(12,5))\n",
    "    plt.subplot(1, 2, 1)\n",
    "    plt.plot(x_axis, results['validation_0']['mlogloss'], label='train')\n",
    "    plt.plot(x_axis, results['validation_1']['mlogloss'], label='test')\n",
    "    plt.legend()\n",
    "\n",
    "    plt.ylabel('log loss')\n",
    "    plt.title('Classifier log loss')\n",
    "    plt.grid()\n",
    "\n",
    "    # plot classification error\n",
    "    plt.subplot(1, 2, 2)\n",
    "    plt.plot(x_axis, results['validation_0']['merror'], label='train')\n",
    "    plt.plot(x_axis, results['validation_1']['merror'], label='test')\n",
    "    plt.legend()\n",
    "\n",
    "    plt.ylabel('Classification Error')\n",
    "    plt.title('Classification Error')\n",
    "    plt.grid()\n",
    "    plt.show()\n",
    "    \n",
    "    \n",
    "def abs_shap(df_shap, df, shap_plot, names, class_names, cmp):\n",
    "    ''' A function to plot the bar plot for the mean abs SHAP values\n",
    "        arguments:\n",
    "            df_shap: the dataframe of the SHAP values\n",
    "            df: the dataframe for the feature values for which the SHAP values have been determined\n",
    "            shap_plot: The name of the output file for the plot\n",
    "            names: The names of the variables\n",
    "            class_names: names of the classes\n",
    "            cmp: the colour map\n",
    "    '''\n",
    "    rc('text', usetex=True)\n",
    "    plt.rcParams['text.latex.preamble'] = r\"\\usepackage{amsmath}\"\n",
    "    plt.figure(figsize=(5,5))\n",
    "    shap.summary_plot(df_shap, df, color=cmp, class_names=class_names, class_inds='original', plot_size=(5,5), show=False, feature_names=names)\n",
    "    ax = plt.gca()\n",
    "    handles, labels = ax.get_legend_handles_labels()\n",
    "    ax.legend(reversed(handles), reversed(labels), loc='lower right', fontsize=15)\n",
    "    plt.xlabel(r'$\\overline{|S_v|}$', fontsize=15)\n",
    "    ax = plt.gca()\n",
    "    ax.spines[\"top\"].set_visible(True)\n",
    "    ax.spines[\"right\"].set_visible(True)\n",
    "    ax.spines[\"left\"].set_visible(True)\n",
    "    vals = ax.get_xticks()\n",
    "    ax.tick_params(axis='both', which='major', labelsize=15)\n",
    "    for tick in vals:\n",
    "        ax.axvline(x=tick, linestyle='dashed', alpha=0.7, color='#808080', zorder=0, linewidth=0.5)\n",
    "    plt.annotate('FCC-hh', xy=(0.5, 0.01), xycoords='axes fraction', horizontalalignment='center',\n",
    "                verticalalignment='bottom', fontsize=20, fontweight='900', zorder=100, color='#474747')\n",
    "    plt.tight_layout()\n",
    "    plt.savefig(shap_plot, dpi=300)\n",
    "    rc('text', usetex=False)\n",
    "    \n",
    "def get_mclass(i, df_array, weight_array, ps_exp_class, seed=seed):\n",
    "    \"\"\" This function is used to create the confusion matrix\n",
    "        arguments:\n",
    "            i: integer corresponding to the class number\n",
    "            df_array: the array of the dataframes of the different classes\n",
    "            weight_array: the array of the weights for the different classes\n",
    "            ps_exp_class: the collection of the pseudo experiment events\n",
    "            seed: the seed for the random number generator\n",
    "        returns:\n",
    "            nevents: the number of events\n",
    "    \"\"\"\n",
    "    nchannels = len(df_array)\n",
    "    mclass = []\n",
    "    for j in range(nchannels):\n",
    "        mclass.append(collections.Counter(classifier.predict(df_array[j].iloc[:,:-2].values))[i]/len(df_array[j])*weight_array[j]/weight_array[i])\n",
    "    nevents = np.round(ps_exp_class[i]/np.sum(mclass)*np.array(mclass)).astype(int)\n",
    "    return nevents\n",
    "\n",
    "\n",
    "def build_confusion(df, weight, clf, filename, keys):\n",
    "    \"\"\" Export the confusion matrix to a json\n",
    "        argument:\n",
    "            df: array of dataframes with the signal and background\n",
    "            weight: array of weights for the signal and background\n",
    "            clf: the classifier\n",
    "            filename: the name of the file to export to\n",
    "            keys: the channel names for which the confusion matrix is created\n",
    "        returns:\n",
    "            df: dataframe with the confusion matrix\n",
    "    \"\"\"\n",
    "    ps_exp_class = collections.Counter(clf.predict(\n",
    "        pd.concat([df[i].iloc[:,:-2].sample(n=round(weight[i]), random_state=seed, replace=True) for i in range(len(df))])\n",
    "        .values))\n",
    "\n",
    "    confusion = np.column_stack([get_mclass(i, df, weight, ps_exp_class) for i in reversed(range(len(df)))])\n",
    "    \n",
    "    df = pd.DataFrame(confusion.T)\n",
    "    df = df[df.columns[::-1]]\n",
    "    df.columns = keys\n",
    "    df.index = keys\n",
    "    df = df.T\n",
    "    df['total'] = df.sum(axis=1)\n",
    "    df = df.T\n",
    "    df['Z'] = 0\n",
    "    for key in keys:\n",
    "        df.loc[key,'Z'] = df.loc[key, key]/np.sqrt(df.loc[key].sum())\n",
    "    df.T.to_json(filename)\n",
    "    return df"
   ]
  },
  {
   "cell_type": "code",
   "execution_count": 3,
   "metadata": {},
   "outputs": [
    {
     "name": "stdout",
     "output_type": "stream",
     "text": [
      "No. of kappa_d triangle events: train = 20000, test = 127973\n",
      "No. of kappa_u triangle events: train = 20000, test = 45908\n",
      "No. of hhsm events: train = 10904, test = 263935\n",
      "No. of hhsm triangle events: train = 20000, test = 83648\n",
      "No. of hhsm interference events: train = 20000, test = 87973\n",
      "No. of hhsm box events: train = 20000, test = 92314\n",
      "No. of bbh+tth events: train = 93472, test = 1089272\n",
      "No. of bbxaa events: train = 120000, test = 106981\n"
     ]
    }
   ],
   "source": [
    "dlist = ['ptb2', 'etaaa', 'dphibb', 'etaa1', 'etab1', 'etaa2', 'drba1', 'dphiba1', 'drbamin', 'nbjet', 'etab2']\n",
    "\n",
    "# k-factors\n",
    "k_box = 1.98\n",
    "k_int = 2.15\n",
    "k_tri = 2.28\n",
    "k_bbh_yb2 = 1.5\n",
    "k_bbh_ybyt = 1.9\n",
    "k_bbh_yt2 = 2.5\n",
    "k_bbh_zh = 1.3\n",
    "k_tth = 1.2\n",
    "k_bbxaa = 1.5\n",
    "k_ku = 1.29\n",
    "k_kd = 1.3\n",
    "\n",
    "# 14 TeV\n",
    "path = '../simulations/FCC-hh/'\n",
    "\n",
    "# The bbxaa background\n",
    "df_bbxaa, df_bbxaa_test, weight_bbxaa = fileparser(path+\"bbxaa.tar.gz\", dlist, sclass=0, sample=120000)\n",
    "weight_bbxaa = weight_bbxaa*k_bbxaa\n",
    "\n",
    "# The tth+bbh background\n",
    "fact = 0.3\n",
    "df_tth, df_tth_test, weight_tth = fileparser(path+\"ttH.tar.gz\", dlist, sclass=1, sample=int(188372*fact))\n",
    "df_yb2, df_yb2_test, weight_yb2 = fileparser(path+\"yb2.tar.gz\", dlist, sclass=1, sample=int(20259*fact))\n",
    "df_ybyt, df_ybyt_test, weight_ybyt = fileparser(path+\"ybyt.tar.gz\", dlist, sclass=1, sample=int(3910*fact))\n",
    "df_yt2, df_yt2_test, weight_yt2 = fileparser(path+\"yt2.tar.gz\", dlist, sclass=1, sample=int(91992*fact))\n",
    "df_zh, df_zh_test, weight_zh = fileparser(path+\"zh.tar.gz\", dlist, sclass=1, sample=int(7047*fact))\n",
    "\n",
    "df_bbh_tth = pd.concat([df_tth, df_yb2, df_ybyt, df_yt2, df_zh])\n",
    "df_bbh_tth_test = pd.concat([df_tth_test, df_yb2_test, df_ybyt_test, df_yt2_test, df_zh_test])\n",
    "weight_bbh_tth = int(weight_tth*k_tth + weight_yb2*k_bbh_yb2 - weight_ybyt*k_bbh_ybyt + weight_yt2*k_bbh_yt2 + weight_zh*k_bbh_zh)\n",
    "\n",
    "# The hhsm signal\n",
    "df_hhsm_b, df_hhsm_b_test, weight_hhsm_b = fileparser(path+\"HH-box.tar.gz\", dlist, sclass=2, sample=20000)\n",
    "df_hhsm_i, df_hhsm_i_test, weight_hhsm_i = fileparser(path+\"HH-int.tar.gz\", dlist, sclass=3, sample=20000)\n",
    "df_hhsm_t, df_hhsm_t_test, weight_hhsm_t = fileparser(path+\"HH-tri.tar.gz\", dlist, sclass=4, sample=20000)\n",
    "weight_hhsm_b = weight_hhsm_b*k_box\n",
    "weight_hhsm_i = weight_hhsm_i*k_int\n",
    "weight_hhsm_t = weight_hhsm_t*k_tri\n",
    "\n",
    "fact = 0.06\n",
    "df_hhsm = pd.concat([df_hhsm_b.sample(n=int(weight_hhsm_b*fact)), df_hhsm_i.sample(n=int(weight_hhsm_i*fact)), df_hhsm_t.sample(n=int(weight_hhsm_t*fact))])\n",
    "df_hhsm['class'] = 2\n",
    "df_hhsm_test = pd.concat([df_hhsm_b_test, df_hhsm_i_test, df_hhsm_t_test])\n",
    "df_hhsm_test['class'] = 2\n",
    "weight_hhsm = int(weight_hhsm_b - weight_hhsm_i + weight_hhsm_t)\n",
    "\n",
    "# kappa_u and kappa_d\n",
    "df_ku, df_ku_test, weight_ku = fileparser(path+\"ku-480.tar.gz\", dlist, sclass=5, sample=20000)\n",
    "df_kd, df_kd_test, weight_kd = fileparser(path+\"kd-225.tar.gz\", dlist, sclass=5, sample=20000)\n",
    "weight_ku = weight_ku*k_ku\n",
    "weight_kd = weight_kd*k_kd\n",
    "\n",
    "\n",
    "print(\"No. of kappa_d triangle events: train = {}, test = {}\".format(df_kd.shape[0],df_kd_test.shape[0]))\n",
    "print(\"No. of kappa_u triangle events: train = {}, test = {}\".format(df_ku.shape[0],df_ku_test.shape[0]))\n",
    "print(\"No. of hhsm events: train = {}, test = {}\".format(df_hhsm.shape[0],df_hhsm_test.shape[0]))\n",
    "print(\"No. of hhsm triangle events: train = {}, test = {}\".format(df_hhsm_t.shape[0],df_hhsm_t_test.shape[0]))\n",
    "print(\"No. of hhsm interference events: train = {}, test = {}\".format(df_hhsm_i.shape[0],df_hhsm_i_test.shape[0]))\n",
    "print(\"No. of hhsm box events: train = {}, test = {}\".format(df_hhsm_b.shape[0],df_hhsm_b_test.shape[0]))\n",
    "print(\"No. of bbh+tth events: train = {}, test = {}\".format(df_bbh_tth.shape[0],df_bbh_tth_test.shape[0]))\n",
    "print(\"No. of bbxaa events: train = {}, test = {}\".format(df_bbxaa.shape[0],df_bbxaa_test.shape[0]))\n",
    "\n",
    "names = [r'$n_{jet}$', r'$p_T^{b_1}$', r'$p_T^{\\gamma_1}$', r'$p_T^{\\gamma_2}$', r'$p_T^{\\gamma\\gamma}$', r'$m_{bb}$', r'$m_{\\gamma\\gamma}$', r'$m_{b_1h}$',\n",
    "         r'$m_{bbh}$', r'$E^{\\rm miss}_T$', r'$H_T$']"
   ]
  },
  {
   "cell_type": "markdown",
   "metadata": {},
   "source": [
    "___________________\n",
    "# The hh analysis"
   ]
  },
  {
   "cell_type": "code",
   "execution_count": 4,
   "metadata": {},
   "outputs": [],
   "source": [
    "channels = [df_hhsm_t, df_hhsm_i, df_hhsm_b, df_bbh_tth, df_bbxaa]\n",
    "df_train = pd.concat(channels, ignore_index=True)\n",
    "df_train = df_train.sample(frac=1).reset_index(drop=True)"
   ]
  },
  {
   "cell_type": "code",
   "execution_count": 5,
   "metadata": {
    "pycharm": {
     "is_executing": false,
     "name": "#%%\n"
    }
   },
   "outputs": [
    {
     "name": "stdout",
     "output_type": "stream",
     "text": [
      "Accuracy Score: 77.01% \n"
     ]
    },
    {
     "data": {
      "image/png": "[encoded data removed]",
      "text/plain": [
       "<Figure size 360x360 with 1 Axes>"
      ]
     },
     "metadata": {
      "needs_background": "light"
     },
     "output_type": "display_data"
    }
   ],
   "source": [
    "class_names = [r'$bb\\gamma\\gamma$', r'$Q\\bar{Q}h$', r'$hh^{gg\\rm F}_{\\rm box}$', r'$hh^{gg \\rm F}_{\\rm int}$', r'$hh^{gg\\rm F}_{\\rm tri}$']\n",
    "filename = '../results/models/FCC-hh-BDT/hh-BDT-5class-hhsm.pickle.dat'\n",
    "shap_plot = '../plots/FCC-hh-shap-bbxaa-bbh-tth-hhsm.pdf'\n",
    "\n",
    "classifier, x_test, y_test, shap_values_5, X_shap_5 = runBDT(df_train, filename, depth=10)\n",
    "abs_shap(shap_values_5, X_shap_5, shap_plot, names=names, class_names=class_names, cmp=cmp_5)"
   ]
  },
  {
   "cell_type": "code",
   "execution_count": 6,
   "metadata": {},
   "outputs": [
    {
     "name": "stdout",
     "output_type": "stream",
     "text": [
      "Accuracy Score for hhsm triangle: 29.09% \n",
      "Accuracy Score for hhsm interference: 29.09% \n",
      "Accuracy Score for hhsm box: 32.97% \n",
      "Accuracy Score for bbh+tth: 81.36% \n",
      "Accuracy Score for bbxaa: 93.40% \n"
     ]
    }
   ],
   "source": [
    "hhsm_t_p = df_hhsm_t_test.sample(n=round(weight_hhsm_t), replace=True, random_state=seed).reset_index(drop=True)\n",
    "hhsm_i_p = df_hhsm_i_test.sample(n=round(weight_hhsm_i), replace=True, random_state=seed).reset_index(drop=True)\n",
    "hhsm_i_b = df_hhsm_b_test.sample(n=round(weight_hhsm_b), replace=True, random_state=seed).reset_index(drop=True)\n",
    "bbh_tth_p = df_bbh_tth_test.sample(n=round(weight_bbh_tth), replace=True, random_state=seed).reset_index(drop=True)\n",
    "bbxaa_p = df_bbxaa_test.sample(n=round(weight_bbxaa), replace=True, random_state=seed).reset_index(drop=True)\n",
    "\n",
    "print('Accuracy Score for hhsm triangle: {:4.2f}% '.format(100*metrics.accuracy_score(hhsm_t_p['class'].values, classifier.predict(hhsm_t_p.drop(columns=['class', 'weight']).values))))\n",
    "print('Accuracy Score for hhsm interference: {:4.2f}% '.format(100*metrics.accuracy_score(hhsm_t_p['class'].values, classifier.predict(hhsm_t_p.drop(columns=['class', 'weight']).values))))\n",
    "print('Accuracy Score for hhsm box: {:4.2f}% '.format(100*metrics.accuracy_score(hhsm_i_b['class'].values, classifier.predict(hhsm_i_b.drop(columns=['class', 'weight']).values))))\n",
    "print('Accuracy Score for bbh+tth: {:4.2f}% '.format(100*metrics.accuracy_score(bbh_tth_p['class'].values, classifier.predict(bbh_tth_p.drop(columns=['class', 'weight']).values))))\n",
    "print('Accuracy Score for bbxaa: {:4.2f}% '.format(100*metrics.accuracy_score(bbxaa_p['class'].values, classifier.predict(bbxaa_p.drop(columns=['class', 'weight']).values))))"
   ]
  },
  {
   "cell_type": "code",
   "execution_count": 7,
   "metadata": {},
   "outputs": [
    {
     "data": {
      "text/html": [
       "<div>\n",
       "<style scoped>\n",
       "    .dataframe tbody tr th:only-of-type {\n",
       "        vertical-align: middle;\n",
       "    }\n",
       "\n",
       "    .dataframe tbody tr th {\n",
       "        vertical-align: top;\n",
       "    }\n",
       "\n",
       "    .dataframe thead th {\n",
       "        text-align: right;\n",
       "    }\n",
       "</style>\n",
       "<table border=\"1\" class=\"dataframe\">\n",
       "  <thead>\n",
       "    <tr style=\"text-align: right;\">\n",
       "      <th></th>\n",
       "      <th>tri</th>\n",
       "      <th>int</th>\n",
       "      <th>box</th>\n",
       "      <th>tth+bbh</th>\n",
       "      <th>bbxaa</th>\n",
       "      <th>Z</th>\n",
       "    </tr>\n",
       "  </thead>\n",
       "  <tbody>\n",
       "    <tr>\n",
       "      <th>tri</th>\n",
       "      <td>3574</td>\n",
       "      <td>13628</td>\n",
       "      <td>14613</td>\n",
       "      <td>29787</td>\n",
       "      <td>49619</td>\n",
       "      <td>10.716702</td>\n",
       "    </tr>\n",
       "    <tr>\n",
       "      <th>int</th>\n",
       "      <td>1471</td>\n",
       "      <td>8269</td>\n",
       "      <td>12965</td>\n",
       "      <td>15433</td>\n",
       "      <td>24046</td>\n",
       "      <td>33.159935</td>\n",
       "    </tr>\n",
       "    <tr>\n",
       "      <th>box</th>\n",
       "      <td>2241</td>\n",
       "      <td>16325</td>\n",
       "      <td>34643</td>\n",
       "      <td>22706</td>\n",
       "      <td>24664</td>\n",
       "      <td>109.235006</td>\n",
       "    </tr>\n",
       "    <tr>\n",
       "      <th>tth+bbh</th>\n",
       "      <td>4657</td>\n",
       "      <td>24484</td>\n",
       "      <td>41273</td>\n",
       "      <td>1235362</td>\n",
       "      <td>1506815</td>\n",
       "      <td>736.615659</td>\n",
       "    </tr>\n",
       "    <tr>\n",
       "      <th>bbxaa</th>\n",
       "      <td>342</td>\n",
       "      <td>1505</td>\n",
       "      <td>1983</td>\n",
       "      <td>214911</td>\n",
       "      <td>22712380</td>\n",
       "      <td>4742.965905</td>\n",
       "    </tr>\n",
       "    <tr>\n",
       "      <th>total</th>\n",
       "      <td>12285</td>\n",
       "      <td>64211</td>\n",
       "      <td>105477</td>\n",
       "      <td>1518199</td>\n",
       "      <td>24317524</td>\n",
       "      <td>0.000000</td>\n",
       "    </tr>\n",
       "  </tbody>\n",
       "</table>\n",
       "</div>"
      ],
      "text/plain": [
       "           tri    int     box  tth+bbh     bbxaa            Z\n",
       "tri       3574  13628   14613    29787     49619    10.716702\n",
       "int       1471   8269   12965    15433     24046    33.159935\n",
       "box       2241  16325   34643    22706     24664   109.235006\n",
       "tth+bbh   4657  24484   41273  1235362   1506815   736.615659\n",
       "bbxaa      342   1505    1983   214911  22712380  4742.965905\n",
       "total    12285  64211  105477  1518199  24317524     0.000000"
      ]
     },
     "execution_count": 7,
     "metadata": {},
     "output_type": "execute_result"
    }
   ],
   "source": [
    "df_array = [df_bbxaa_test, df_bbh_tth_test, df_hhsm_b_test, df_hhsm_i_test, df_hhsm_t_test]\n",
    "weight_array = [weight_bbxaa, weight_bbh_tth, weight_hhsm_b, weight_hhsm_i, weight_hhsm_t]\n",
    "keys = ['tri', 'int', 'box', 'tth+bbh', 'bbxaa']\n",
    "filename = '../results/confusion/FCC-hh-BDT/hh-BDT-5class-hhsm.confusion.json'\n",
    "\n",
    "df = build_confusion(df_array, weight_array, classifier, filename, keys)\n",
    "df"
   ]
  },
  {
   "cell_type": "markdown",
   "metadata": {},
   "source": [
    "________________________\n",
    "## The kappa_u & kappa_lambda"
   ]
  },
  {
   "cell_type": "code",
   "execution_count": 8,
   "metadata": {},
   "outputs": [],
   "source": [
    "channels = [df_ku, df_hhsm_t, df_hhsm_i, df_hhsm_b, df_bbh_tth, df_bbxaa]\n",
    "df_train = pd.concat(channels, ignore_index=True)\n",
    "df_train = df_train.sample(frac=1).reset_index(drop=True)"
   ]
  },
  {
   "cell_type": "code",
   "execution_count": 9,
   "metadata": {
    "pycharm": {
     "is_executing": false,
     "name": "#%%\n"
    }
   },
   "outputs": [
    {
     "name": "stdout",
     "output_type": "stream",
     "text": [
      "Accuracy Score: 73.33% \n"
     ]
    },
    {
     "data": {
      "image/png": "[encoded data removed]",
      "text/plain": [
       "<Figure size 360x360 with 1 Axes>"
      ]
     },
     "metadata": {
      "needs_background": "light"
     },
     "output_type": "display_data"
    }
   ],
   "source": [
    "class_names = [r'$bb\\gamma\\gamma$', r'$Q\\bar{Q}h$', r'$hh^{gg\\rm F}_{\\rm box}$', r'$hh^{gg\\rm F}_{\\rm int}$', r'$hh^{gg\\rm F}_{\\rm tri}$', r'$u \\bar u hh$']\n",
    "filename = '../results/models/FCC-hh-BDT/hh-BDT-6class-ku.pickle.dat'\n",
    "shap_plot = '../plots/FCC-hh-shap-bbxaa-bbh-tth-hhsm-ku.pdf'\n",
    "\n",
    "classifier, x_test, y_test, shap_values_6u, X_shap_6u = runBDT(df_train, filename, depth=10)\n",
    "abs_shap(shap_values_6u, X_shap_6u, shap_plot, names=names, class_names=class_names, cmp=cmp_6)"
   ]
  },
  {
   "cell_type": "code",
   "execution_count": 10,
   "metadata": {},
   "outputs": [
    {
     "name": "stdout",
     "output_type": "stream",
     "text": [
      "Accuracy Score for ku: 40.30% \n",
      "Accuracy Score for hhsm triangle: 27.77% \n",
      "Accuracy Score for hhsm interference: 27.77% \n",
      "Accuracy Score for hhsm box: 22.96% \n",
      "Accuracy Score for bbh+tth: 80.33% \n",
      "Accuracy Score for bbxaa: 93.41% \n"
     ]
    }
   ],
   "source": [
    "ku_p = df_ku_test.sample(n=round(weight_ku), replace=True, random_state=seed).reset_index(drop=True)\n",
    "hhsm_t_p = df_hhsm_t_test.sample(n=round(weight_hhsm_t), replace=True, random_state=seed).reset_index(drop=True)\n",
    "hhsm_i_p = df_hhsm_i_test.sample(n=round(weight_hhsm_i), replace=True, random_state=seed).reset_index(drop=True)\n",
    "hhsm_i_b = df_hhsm_b_test.sample(n=round(weight_hhsm_b), replace=True, random_state=seed).reset_index(drop=True)\n",
    "bbh_tth_p = df_bbh_tth_test.sample(n=round(weight_bbh_tth), replace=True, random_state=seed).reset_index(drop=True)\n",
    "bbxaa_p = df_bbxaa_test.sample(n=round(weight_bbxaa), replace=True, random_state=seed).reset_index(drop=True)\n",
    "\n",
    "print('Accuracy Score for ku: {:4.2f}% '.format(100*metrics.accuracy_score(ku_p['class'].values, classifier.predict(ku_p.drop(columns=['class', 'weight']).values))))\n",
    "print('Accuracy Score for hhsm triangle: {:4.2f}% '.format(100*metrics.accuracy_score(hhsm_t_p['class'].values, classifier.predict(hhsm_t_p.drop(columns=['class', 'weight']).values))))\n",
    "print('Accuracy Score for hhsm interference: {:4.2f}% '.format(100*metrics.accuracy_score(hhsm_t_p['class'].values, classifier.predict(hhsm_t_p.drop(columns=['class', 'weight']).values))))\n",
    "print('Accuracy Score for hhsm box: {:4.2f}% '.format(100*metrics.accuracy_score(hhsm_i_b['class'].values, classifier.predict(hhsm_i_b.drop(columns=['class', 'weight']).values))))\n",
    "print('Accuracy Score for bbh+tth: {:4.2f}% '.format(100*metrics.accuracy_score(bbh_tth_p['class'].values, classifier.predict(bbh_tth_p.drop(columns=['class', 'weight']).values))))\n",
    "print('Accuracy Score for bbxaa: {:4.2f}% '.format(100*metrics.accuracy_score(bbxaa_p['class'].values, classifier.predict(bbxaa_p.drop(columns=['class', 'weight']).values))))"
   ]
  },
  {
   "cell_type": "code",
   "execution_count": 11,
   "metadata": {},
   "outputs": [
    {
     "data": {
      "text/html": [
       "<div>\n",
       "<style scoped>\n",
       "    .dataframe tbody tr th:only-of-type {\n",
       "        vertical-align: middle;\n",
       "    }\n",
       "\n",
       "    .dataframe tbody tr th {\n",
       "        vertical-align: top;\n",
       "    }\n",
       "\n",
       "    .dataframe thead th {\n",
       "        text-align: right;\n",
       "    }\n",
       "</style>\n",
       "<table border=\"1\" class=\"dataframe\">\n",
       "  <thead>\n",
       "    <tr style=\"text-align: right;\">\n",
       "      <th></th>\n",
       "      <th>ku</th>\n",
       "      <th>tri</th>\n",
       "      <th>int</th>\n",
       "      <th>box</th>\n",
       "      <th>tth+bbh</th>\n",
       "      <th>bbxaa</th>\n",
       "      <th>Z</th>\n",
       "    </tr>\n",
       "  </thead>\n",
       "  <tbody>\n",
       "    <tr>\n",
       "      <th>ku</th>\n",
       "      <td>16799</td>\n",
       "      <td>915</td>\n",
       "      <td>5801</td>\n",
       "      <td>13579</td>\n",
       "      <td>26324</td>\n",
       "      <td>20061</td>\n",
       "      <td>58.142649</td>\n",
       "    </tr>\n",
       "    <tr>\n",
       "      <th>tri</th>\n",
       "      <td>6131</td>\n",
       "      <td>3397</td>\n",
       "      <td>12991</td>\n",
       "      <td>13985</td>\n",
       "      <td>28826</td>\n",
       "      <td>44747</td>\n",
       "      <td>10.238757</td>\n",
       "    </tr>\n",
       "    <tr>\n",
       "      <th>int</th>\n",
       "      <td>2292</td>\n",
       "      <td>1394</td>\n",
       "      <td>7881</td>\n",
       "      <td>12673</td>\n",
       "      <td>13159</td>\n",
       "      <td>21141</td>\n",
       "      <td>32.572791</td>\n",
       "    </tr>\n",
       "    <tr>\n",
       "      <th>box</th>\n",
       "      <td>5043</td>\n",
       "      <td>1678</td>\n",
       "      <td>11995</td>\n",
       "      <td>24091</td>\n",
       "      <td>15300</td>\n",
       "      <td>18653</td>\n",
       "      <td>86.953555</td>\n",
       "    </tr>\n",
       "    <tr>\n",
       "      <th>tth+bbh</th>\n",
       "      <td>10619</td>\n",
       "      <td>4549</td>\n",
       "      <td>23961</td>\n",
       "      <td>39068</td>\n",
       "      <td>1219054</td>\n",
       "      <td>1497616</td>\n",
       "      <td>729.192798</td>\n",
       "    </tr>\n",
       "    <tr>\n",
       "      <th>bbxaa</th>\n",
       "      <td>1018</td>\n",
       "      <td>343</td>\n",
       "      <td>1518</td>\n",
       "      <td>1968</td>\n",
       "      <td>215232</td>\n",
       "      <td>22715759</td>\n",
       "      <td>4743.183715</td>\n",
       "    </tr>\n",
       "    <tr>\n",
       "      <th>total</th>\n",
       "      <td>41902</td>\n",
       "      <td>12276</td>\n",
       "      <td>64147</td>\n",
       "      <td>105364</td>\n",
       "      <td>1517895</td>\n",
       "      <td>24317977</td>\n",
       "      <td>0.000000</td>\n",
       "    </tr>\n",
       "  </tbody>\n",
       "</table>\n",
       "</div>"
      ],
      "text/plain": [
       "            ku    tri    int     box  tth+bbh     bbxaa            Z\n",
       "ku       16799    915   5801   13579    26324     20061    58.142649\n",
       "tri       6131   3397  12991   13985    28826     44747    10.238757\n",
       "int       2292   1394   7881   12673    13159     21141    32.572791\n",
       "box       5043   1678  11995   24091    15300     18653    86.953555\n",
       "tth+bbh  10619   4549  23961   39068  1219054   1497616   729.192798\n",
       "bbxaa     1018    343   1518    1968   215232  22715759  4743.183715\n",
       "total    41902  12276  64147  105364  1517895  24317977     0.000000"
      ]
     },
     "execution_count": 11,
     "metadata": {},
     "output_type": "execute_result"
    }
   ],
   "source": [
    "df_array = [df_bbxaa_test, df_bbh_tth_test, df_hhsm_b_test, df_hhsm_i_test, df_hhsm_t_test, df_ku_test]\n",
    "weight_array = [weight_bbxaa, weight_bbh_tth, weight_hhsm_b, weight_hhsm_i, weight_hhsm_t, weight_ku]\n",
    "keys = ['ku', 'tri', 'int', 'box', 'tth+bbh', 'bbxaa']\n",
    "filename = '../results/confusion/FCC-hh-BDT/hh-BDT-6class-ku.confusion.json'\n",
    "\n",
    "df = build_confusion(df_array, weight_array, classifier, filename, keys)\n",
    "df"
   ]
  },
  {
   "cell_type": "markdown",
   "metadata": {},
   "source": [
    "_________________________________\n",
    "## The kappa_d & kappa_lambda"
   ]
  },
  {
   "cell_type": "code",
   "execution_count": 12,
   "metadata": {},
   "outputs": [],
   "source": [
    "channels = [df_kd, df_hhsm_t, df_hhsm_i, df_hhsm_b, df_bbh_tth, df_bbxaa]\n",
    "df_train = pd.concat(channels, ignore_index=True)\n",
    "df_train = df_train.sample(frac=1).reset_index(drop=True)"
   ]
  },
  {
   "cell_type": "code",
   "execution_count": 13,
   "metadata": {
    "pycharm": {
     "is_executing": false,
     "name": "#%%\n"
    }
   },
   "outputs": [
    {
     "name": "stdout",
     "output_type": "stream",
     "text": [
      "Accuracy Score: 73.01% \n"
     ]
    },
    {
     "data": {
      "image/png": "[encoded data removed]",
      "text/plain": [
       "<Figure size 360x360 with 1 Axes>"
      ]
     },
     "metadata": {
      "needs_background": "light"
     },
     "output_type": "display_data"
    }
   ],
   "source": [
    "class_names = [r'$bb\\gamma\\gamma$', r'$Q\\bar{Q}h$', r'$hh^{gg\\rm F}_{\\rm box}$', r'$hh^{gg\\rm F}_{\\rm int}$', r'$hh^{gg\\rm F}_{\\rm tri}$', r'$d \\bar d hh$']\n",
    "filename = '../results/models/FCC-hh-BDT/hh-BDT-6class-kd.pickle.dat'\n",
    "shap_plot = '../plots/FCC-hh-shap-bbxaa-bbh-tth-hhsm-kd.pdf'\n",
    "\n",
    "classifier, x_test, y_test, shap_values_6d, X_shap_6d = runBDT(df_train, filename, depth=10)\n",
    "abs_shap(shap_values_6d, X_shap_6d, shap_plot, names=names, class_names=class_names, cmp=cmp_6)"
   ]
  },
  {
   "cell_type": "code",
   "execution_count": 14,
   "metadata": {},
   "outputs": [
    {
     "name": "stdout",
     "output_type": "stream",
     "text": [
      "Accuracy Score for ku: 40.04% \n",
      "Accuracy Score for hhsm triangle: 26.67% \n",
      "Accuracy Score for hhsm interference: 26.67% \n",
      "Accuracy Score for hhsm box: 23.80% \n",
      "Accuracy Score for bbh+tth: 80.31% \n",
      "Accuracy Score for bbxaa: 93.46% \n"
     ]
    }
   ],
   "source": [
    "kd_p = df_kd_test.sample(n=round(weight_kd), replace=True, random_state=seed).reset_index(drop=True)\n",
    "hhsm_t_p = df_hhsm_t_test.sample(n=round(weight_hhsm_t), replace=True, random_state=seed).reset_index(drop=True)\n",
    "hhsm_i_p = df_hhsm_i_test.sample(n=round(weight_hhsm_i), replace=True, random_state=seed).reset_index(drop=True)\n",
    "hhsm_i_b = df_hhsm_b_test.sample(n=round(weight_hhsm_b), replace=True, random_state=seed).reset_index(drop=True)\n",
    "bbh_tth_p = df_bbh_tth_test.sample(n=round(weight_bbh_tth), replace=True, random_state=seed).reset_index(drop=True)\n",
    "bbxaa_p = df_bbxaa_test.sample(n=round(weight_bbxaa), replace=True, random_state=seed).reset_index(drop=True)\n",
    "\n",
    "print('Accuracy Score for ku: {:4.2f}% '.format(100*metrics.accuracy_score(kd_p['class'].values, classifier.predict(kd_p.drop(columns=['class', 'weight']).values))))\n",
    "print('Accuracy Score for hhsm triangle: {:4.2f}% '.format(100*metrics.accuracy_score(hhsm_t_p['class'].values, classifier.predict(hhsm_t_p.drop(columns=['class', 'weight']).values))))\n",
    "print('Accuracy Score for hhsm interference: {:4.2f}% '.format(100*metrics.accuracy_score(hhsm_t_p['class'].values, classifier.predict(hhsm_t_p.drop(columns=['class', 'weight']).values))))\n",
    "print('Accuracy Score for hhsm box: {:4.2f}% '.format(100*metrics.accuracy_score(hhsm_i_b['class'].values, classifier.predict(hhsm_i_b.drop(columns=['class', 'weight']).values))))\n",
    "print('Accuracy Score for bbh+tth: {:4.2f}% '.format(100*metrics.accuracy_score(bbh_tth_p['class'].values, classifier.predict(bbh_tth_p.drop(columns=['class', 'weight']).values))))\n",
    "print('Accuracy Score for bbxaa: {:4.2f}% '.format(100*metrics.accuracy_score(bbxaa_p['class'].values, classifier.predict(bbxaa_p.drop(columns=['class', 'weight']).values))))"
   ]
  },
  {
   "cell_type": "code",
   "execution_count": 15,
   "metadata": {},
   "outputs": [
    {
     "data": {
      "text/html": [
       "<div>\n",
       "<style scoped>\n",
       "    .dataframe tbody tr th:only-of-type {\n",
       "        vertical-align: middle;\n",
       "    }\n",
       "\n",
       "    .dataframe tbody tr th {\n",
       "        vertical-align: top;\n",
       "    }\n",
       "\n",
       "    .dataframe thead th {\n",
       "        text-align: right;\n",
       "    }\n",
       "</style>\n",
       "<table border=\"1\" class=\"dataframe\">\n",
       "  <thead>\n",
       "    <tr style=\"text-align: right;\">\n",
       "      <th></th>\n",
       "      <th>kd</th>\n",
       "      <th>tri</th>\n",
       "      <th>int</th>\n",
       "      <th>box</th>\n",
       "      <th>tth+bbh</th>\n",
       "      <th>bbxaa</th>\n",
       "      <th>Z</th>\n",
       "    </tr>\n",
       "  </thead>\n",
       "  <tbody>\n",
       "    <tr>\n",
       "      <th>kd</th>\n",
       "      <td>17656</td>\n",
       "      <td>1103</td>\n",
       "      <td>6750</td>\n",
       "      <td>14696</td>\n",
       "      <td>29693</td>\n",
       "      <td>26166</td>\n",
       "      <td>56.965510</td>\n",
       "    </tr>\n",
       "    <tr>\n",
       "      <th>tri</th>\n",
       "      <td>6592</td>\n",
       "      <td>3304</td>\n",
       "      <td>12554</td>\n",
       "      <td>13721</td>\n",
       "      <td>26369</td>\n",
       "      <td>44227</td>\n",
       "      <td>10.111638</td>\n",
       "    </tr>\n",
       "    <tr>\n",
       "      <th>int</th>\n",
       "      <td>2254</td>\n",
       "      <td>1244</td>\n",
       "      <td>7213</td>\n",
       "      <td>11207</td>\n",
       "      <td>12483</td>\n",
       "      <td>22532</td>\n",
       "      <td>30.229704</td>\n",
       "    </tr>\n",
       "    <tr>\n",
       "      <th>box</th>\n",
       "      <td>5298</td>\n",
       "      <td>1737</td>\n",
       "      <td>12421</td>\n",
       "      <td>25006</td>\n",
       "      <td>14775</td>\n",
       "      <td>16909</td>\n",
       "      <td>90.619295</td>\n",
       "    </tr>\n",
       "    <tr>\n",
       "      <th>tth+bbh</th>\n",
       "      <td>11336</td>\n",
       "      <td>4555</td>\n",
       "      <td>23776</td>\n",
       "      <td>38846</td>\n",
       "      <td>1218714</td>\n",
       "      <td>1481409</td>\n",
       "      <td>731.115466</td>\n",
       "    </tr>\n",
       "    <tr>\n",
       "      <th>bbxaa</th>\n",
       "      <td>1139</td>\n",
       "      <td>333</td>\n",
       "      <td>1466</td>\n",
       "      <td>1966</td>\n",
       "      <td>215792</td>\n",
       "      <td>22726710</td>\n",
       "      <td>4744.274079</td>\n",
       "    </tr>\n",
       "    <tr>\n",
       "      <th>total</th>\n",
       "      <td>44275</td>\n",
       "      <td>12276</td>\n",
       "      <td>64180</td>\n",
       "      <td>105442</td>\n",
       "      <td>1517826</td>\n",
       "      <td>24317953</td>\n",
       "      <td>0.000000</td>\n",
       "    </tr>\n",
       "  </tbody>\n",
       "</table>\n",
       "</div>"
      ],
      "text/plain": [
       "            kd    tri    int     box  tth+bbh     bbxaa            Z\n",
       "kd       17656   1103   6750   14696    29693     26166    56.965510\n",
       "tri       6592   3304  12554   13721    26369     44227    10.111638\n",
       "int       2254   1244   7213   11207    12483     22532    30.229704\n",
       "box       5298   1737  12421   25006    14775     16909    90.619295\n",
       "tth+bbh  11336   4555  23776   38846  1218714   1481409   731.115466\n",
       "bbxaa     1139    333   1466    1966   215792  22726710  4744.274079\n",
       "total    44275  12276  64180  105442  1517826  24317953     0.000000"
      ]
     },
     "execution_count": 15,
     "metadata": {},
     "output_type": "execute_result"
    }
   ],
   "source": [
    "df_array = [df_bbxaa_test, df_bbh_tth_test, df_hhsm_b_test, df_hhsm_i_test, df_hhsm_t_test, df_kd_test]\n",
    "weight_array = [weight_bbxaa, weight_bbh_tth, weight_hhsm_b, weight_hhsm_i, weight_hhsm_t, weight_kd]\n",
    "keys = ['kd', 'tri', 'int', 'box', 'tth+bbh', 'bbxaa']\n",
    "filename = '../results/confusion/FCC-hh-BDT/hh-BDT-6class-kd.confusion.json'\n",
    "\n",
    "df = build_confusion(df_array, weight_array, classifier, filename, keys)\n",
    "df"
   ]
  },
  {
   "cell_type": "markdown",
   "metadata": {},
   "source": [
    "________________________\n",
    "## The kappa_u, kappa_d and kappa_lambda"
   ]
  },
  {
   "cell_type": "code",
   "execution_count": 16,
   "metadata": {},
   "outputs": [],
   "source": [
    "df_ku['class'] = 6\n",
    "df_ku_test['class'] = 6\n",
    "channels = [df_ku, df_kd, df_hhsm_t, df_hhsm_i, df_hhsm_b, df_bbh_tth, df_bbxaa]\n",
    "df_train = pd.concat(channels, ignore_index=True)\n",
    "df_train = df_train.sample(frac=1).reset_index(drop=True)"
   ]
  },
  {
   "cell_type": "code",
   "execution_count": 17,
   "metadata": {
    "pycharm": {
     "is_executing": false,
     "name": "#%%\n"
    }
   },
   "outputs": [
    {
     "name": "stdout",
     "output_type": "stream",
     "text": [
      "Accuracy Score: 68.33% \n"
     ]
    },
    {
     "data": {
      "image/png": "[encoded data removed]",
      "text/plain": [
       "<Figure size 360x360 with 1 Axes>"
      ]
     },
     "metadata": {
      "needs_background": "light"
     },
     "output_type": "display_data"
    }
   ],
   "source": [
    "class_names = [r'$bb\\gamma\\gamma$', r'$Q\\bar{Q}h$', r'$hh^{gg\\rm F}_{\\rm box}$', r'$hh^{gg\\rm F}_{\\rm int}$', r'$hh^{gg\\rm F}_{\\rm tri}$', r'$d \\bar d hh$', r'$u \\bar u hh$']\n",
    "filename = '../results/models/FCC-hh-BDT/hh-BDT-7class-ku-kd.pickle.dat'\n",
    "shap_plot = '../plots/FCC-hh-shap-bbxaa-bbh-tth-hhsm-ku-kd.pdf'\n",
    "\n",
    "classifier, x_test, y_test, shap_values_7ud, X_shap_7ud = runBDT(df_train, filename, depth=10)\n",
    "abs_shap(shap_values_7ud, X_shap_7ud, shap_plot, names=names, class_names=class_names, cmp=cmp_7)"
   ]
  },
  {
   "cell_type": "code",
   "execution_count": 18,
   "metadata": {},
   "outputs": [
    {
     "name": "stdout",
     "output_type": "stream",
     "text": [
      "Accuracy Score for ku: 24.78% \n",
      "Accuracy Score for kd: 21.14% \n",
      "Accuracy Score for hhsm triangle: 25.45% \n",
      "Accuracy Score for hhsm interference: 25.45% \n",
      "Accuracy Score for hhsm box: 21.15% \n",
      "Accuracy Score for bbh+tth: 80.29% \n",
      "Accuracy Score for bbxaa: 93.36% \n"
     ]
    }
   ],
   "source": [
    "ku_p = df_ku_test.sample(n=round(weight_ku), replace=True, random_state=seed).reset_index(drop=True)\n",
    "kd_p = df_kd_test.sample(n=round(weight_kd), replace=True, random_state=seed).reset_index(drop=True)\n",
    "hhsm_t_p = df_hhsm_t_test.sample(n=round(weight_hhsm_t), replace=True, random_state=seed).reset_index(drop=True)\n",
    "hhsm_i_p = df_hhsm_i_test.sample(n=round(weight_hhsm_i), replace=True, random_state=seed).reset_index(drop=True)\n",
    "hhsm_i_b = df_hhsm_b_test.sample(n=round(weight_hhsm_b), replace=True, random_state=seed).reset_index(drop=True)\n",
    "bbh_tth_p = df_bbh_tth_test.sample(n=round(weight_bbh_tth), replace=True, random_state=seed).reset_index(drop=True)\n",
    "bbxaa_p = df_bbxaa_test.sample(n=round(weight_bbxaa), replace=True, random_state=seed).reset_index(drop=True)\n",
    "\n",
    "print('Accuracy Score for ku: {:4.2f}% '.format(100*metrics.accuracy_score(ku_p['class'].values, classifier.predict(ku_p.drop(columns=['class', 'weight']).values))))\n",
    "print('Accuracy Score for kd: {:4.2f}% '.format(100*metrics.accuracy_score(kd_p['class'].values, classifier.predict(kd_p.drop(columns=['class', 'weight']).values))))\n",
    "print('Accuracy Score for hhsm triangle: {:4.2f}% '.format(100*metrics.accuracy_score(hhsm_t_p['class'].values, classifier.predict(hhsm_t_p.drop(columns=['class', 'weight']).values))))\n",
    "print('Accuracy Score for hhsm interference: {:4.2f}% '.format(100*metrics.accuracy_score(hhsm_t_p['class'].values, classifier.predict(hhsm_t_p.drop(columns=['class', 'weight']).values))))\n",
    "print('Accuracy Score for hhsm box: {:4.2f}% '.format(100*metrics.accuracy_score(hhsm_i_b['class'].values, classifier.predict(hhsm_i_b.drop(columns=['class', 'weight']).values))))\n",
    "print('Accuracy Score for bbh+tth: {:4.2f}% '.format(100*metrics.accuracy_score(bbh_tth_p['class'].values, classifier.predict(bbh_tth_p.drop(columns=['class', 'weight']).values))))\n",
    "print('Accuracy Score for bbxaa: {:4.2f}% '.format(100*metrics.accuracy_score(bbxaa_p['class'].values, classifier.predict(bbxaa_p.drop(columns=['class', 'weight']).values))))"
   ]
  },
  {
   "cell_type": "code",
   "execution_count": 19,
   "metadata": {},
   "outputs": [
    {
     "data": {
      "text/html": [
       "<div>\n",
       "<style scoped>\n",
       "    .dataframe tbody tr th:only-of-type {\n",
       "        vertical-align: middle;\n",
       "    }\n",
       "\n",
       "    .dataframe tbody tr th {\n",
       "        vertical-align: top;\n",
       "    }\n",
       "\n",
       "    .dataframe thead th {\n",
       "        text-align: right;\n",
       "    }\n",
       "</style>\n",
       "<table border=\"1\" class=\"dataframe\">\n",
       "  <thead>\n",
       "    <tr style=\"text-align: right;\">\n",
       "      <th></th>\n",
       "      <th>ku</th>\n",
       "      <th>kd</th>\n",
       "      <th>tri</th>\n",
       "      <th>int</th>\n",
       "      <th>box</th>\n",
       "      <th>tth+bbh</th>\n",
       "      <th>bbxaa</th>\n",
       "      <th>Z</th>\n",
       "    </tr>\n",
       "  </thead>\n",
       "  <tbody>\n",
       "    <tr>\n",
       "      <th>ku</th>\n",
       "      <td>10279</td>\n",
       "      <td>10128</td>\n",
       "      <td>561</td>\n",
       "      <td>3443</td>\n",
       "      <td>7978</td>\n",
       "      <td>17483</td>\n",
       "      <td>16875</td>\n",
       "      <td>39.786432</td>\n",
       "    </tr>\n",
       "    <tr>\n",
       "      <th>kd</th>\n",
       "      <td>8902</td>\n",
       "      <td>9423</td>\n",
       "      <td>837</td>\n",
       "      <td>4811</td>\n",
       "      <td>9494</td>\n",
       "      <td>18468</td>\n",
       "      <td>19552</td>\n",
       "      <td>35.243226</td>\n",
       "    </tr>\n",
       "    <tr>\n",
       "      <th>tri</th>\n",
       "      <td>5187</td>\n",
       "      <td>5899</td>\n",
       "      <td>3135</td>\n",
       "      <td>11885</td>\n",
       "      <td>12839</td>\n",
       "      <td>25582</td>\n",
       "      <td>43185</td>\n",
       "      <td>9.552246</td>\n",
       "    </tr>\n",
       "    <tr>\n",
       "      <th>int</th>\n",
       "      <td>1951</td>\n",
       "      <td>2140</td>\n",
       "      <td>1244</td>\n",
       "      <td>7209</td>\n",
       "      <td>11582</td>\n",
       "      <td>11225</td>\n",
       "      <td>18473</td>\n",
       "      <td>31.073276</td>\n",
       "    </tr>\n",
       "    <tr>\n",
       "      <th>box</th>\n",
       "      <td>4275</td>\n",
       "      <td>4626</td>\n",
       "      <td>1574</td>\n",
       "      <td>11211</td>\n",
       "      <td>22315</td>\n",
       "      <td>13605</td>\n",
       "      <td>18412</td>\n",
       "      <td>80.935429</td>\n",
       "    </tr>\n",
       "    <tr>\n",
       "      <th>tth+bbh</th>\n",
       "      <td>10333</td>\n",
       "      <td>10970</td>\n",
       "      <td>4601</td>\n",
       "      <td>24153</td>\n",
       "      <td>39273</td>\n",
       "      <td>1218743</td>\n",
       "      <td>1497993</td>\n",
       "      <td>727.550584</td>\n",
       "    </tr>\n",
       "    <tr>\n",
       "      <th>bbxaa</th>\n",
       "      <td>968</td>\n",
       "      <td>1100</td>\n",
       "      <td>327</td>\n",
       "      <td>1458</td>\n",
       "      <td>1909</td>\n",
       "      <td>213117</td>\n",
       "      <td>22703073</td>\n",
       "      <td>4741.970482</td>\n",
       "    </tr>\n",
       "    <tr>\n",
       "      <th>total</th>\n",
       "      <td>41895</td>\n",
       "      <td>44286</td>\n",
       "      <td>12279</td>\n",
       "      <td>64170</td>\n",
       "      <td>105390</td>\n",
       "      <td>1518223</td>\n",
       "      <td>24317563</td>\n",
       "      <td>0.000000</td>\n",
       "    </tr>\n",
       "  </tbody>\n",
       "</table>\n",
       "</div>"
      ],
      "text/plain": [
       "            ku     kd    tri    int     box  tth+bbh     bbxaa            Z\n",
       "ku       10279  10128    561   3443    7978    17483     16875    39.786432\n",
       "kd        8902   9423    837   4811    9494    18468     19552    35.243226\n",
       "tri       5187   5899   3135  11885   12839    25582     43185     9.552246\n",
       "int       1951   2140   1244   7209   11582    11225     18473    31.073276\n",
       "box       4275   4626   1574  11211   22315    13605     18412    80.935429\n",
       "tth+bbh  10333  10970   4601  24153   39273  1218743   1497993   727.550584\n",
       "bbxaa      968   1100    327   1458    1909   213117  22703073  4741.970482\n",
       "total    41895  44286  12279  64170  105390  1518223  24317563     0.000000"
      ]
     },
     "execution_count": 19,
     "metadata": {},
     "output_type": "execute_result"
    }
   ],
   "source": [
    "df_array = [df_bbxaa_test, df_bbh_tth_test, df_hhsm_b_test, df_hhsm_i_test, df_hhsm_t_test, df_kd_test, df_ku_test]\n",
    "weight_array = [weight_bbxaa, weight_bbh_tth, weight_hhsm_b, weight_hhsm_i, weight_hhsm_t, weight_kd, weight_ku]\n",
    "keys = ['ku', 'kd', 'tri', 'int', 'box', 'tth+bbh', 'bbxaa']\n",
    "filename = '../results/confusion/FCC-hh-BDT/hh-BDT-7class-ku-kd.confusion.json'\n",
    "\n",
    "df = build_confusion(df_array, weight_array, classifier, filename, keys)\n",
    "df"
   ]
  },
  {
   "cell_type": "markdown",
   "metadata": {},
   "source": [
    "_____________________________\n",
    "## Standard Model di-Higgs"
   ]
  },
  {
   "cell_type": "code",
   "execution_count": 20,
   "metadata": {},
   "outputs": [],
   "source": [
    "channels = [df_hhsm, df_bbh_tth, df_bbxaa]\n",
    "df_train = pd.concat(channels, ignore_index=True)\n",
    "df_train = df_train.sample(frac=1).reset_index(drop=True)"
   ]
  },
  {
   "cell_type": "code",
   "execution_count": 21,
   "metadata": {
    "pycharm": {
     "is_executing": false,
     "name": "#%%\n"
    }
   },
   "outputs": [
    {
     "name": "stdout",
     "output_type": "stream",
     "text": [
      "Accuracy Score: 90.41% \n"
     ]
    },
    {
     "data": {
      "image/png": "[encoded data removed]",
      "text/plain": [
       "<Figure size 360x360 with 1 Axes>"
      ]
     },
     "metadata": {
      "needs_background": "light"
     },
     "output_type": "display_data"
    }
   ],
   "source": [
    "class_names = [r'$bb\\gamma\\gamma$', r'$Q\\bar{Q}h$', r'$hh^{gg\\rm F}$']\n",
    "filename = '../results/models/FCC-hh-BDT/hh-BDT-3class-hhsm-SM.pickle.dat'\n",
    "shap_plot = '../plots/FCC-hh-shap-bbxaa-bbh-tth-hhsm-SM.pdf'\n",
    "\n",
    "classifier, x_test, y_test, shap_values_3, X_shap_3 = runBDT(df_train, filename, depth=10)\n",
    "abs_shap(shap_values_3, X_shap_3, shap_plot, names=names, class_names=class_names, cmp=cmp_5)"
   ]
  },
  {
   "cell_type": "code",
   "execution_count": 22,
   "metadata": {},
   "outputs": [
    {
     "name": "stdout",
     "output_type": "stream",
     "text": [
      "Accuracy Score for hhsm: 37.36% \n",
      "Accuracy Score for bbh+tth: 84.70% \n",
      "Accuracy Score for bbxaa: 93.44% \n"
     ]
    }
   ],
   "source": [
    "hhsm_p = df_hhsm_test.sample(n=round(weight_hhsm), replace=True, random_state=seed).reset_index(drop=True)\n",
    "bbh_tth_p = df_bbh_tth_test.sample(n=round(weight_bbh_tth), replace=True, random_state=seed).reset_index(drop=True)\n",
    "bbxaa_p = df_bbxaa_test.sample(n=round(weight_bbxaa), replace=True, random_state=seed).reset_index(drop=True)\n",
    "\n",
    "print('Accuracy Score for hhsm: {:4.2f}% '.format(100*metrics.accuracy_score(hhsm_p['class'].values, classifier.predict(hhsm_p.drop(columns=['class', 'weight']).values))))\n",
    "print('Accuracy Score for bbh+tth: {:4.2f}% '.format(100*metrics.accuracy_score(bbh_tth_p['class'].values, classifier.predict(bbh_tth_p.drop(columns=['class', 'weight']).values))))\n",
    "print('Accuracy Score for bbxaa: {:4.2f}% '.format(100*metrics.accuracy_score(bbxaa_p['class'].values, classifier.predict(bbxaa_p.drop(columns=['class', 'weight']).values))))"
   ]
  },
  {
   "cell_type": "code",
   "execution_count": 23,
   "metadata": {},
   "outputs": [
    {
     "data": {
      "text/html": [
       "<div>\n",
       "<style scoped>\n",
       "    .dataframe tbody tr th:only-of-type {\n",
       "        vertical-align: middle;\n",
       "    }\n",
       "\n",
       "    .dataframe tbody tr th {\n",
       "        vertical-align: top;\n",
       "    }\n",
       "\n",
       "    .dataframe thead th {\n",
       "        text-align: right;\n",
       "    }\n",
       "</style>\n",
       "<table border=\"1\" class=\"dataframe\">\n",
       "  <thead>\n",
       "    <tr style=\"text-align: right;\">\n",
       "      <th></th>\n",
       "      <th>hhsm</th>\n",
       "      <th>tth+bbh</th>\n",
       "      <th>bbxaa</th>\n",
       "      <th>Z</th>\n",
       "    </tr>\n",
       "  </thead>\n",
       "  <tbody>\n",
       "    <tr>\n",
       "      <th>hhsm</th>\n",
       "      <td>19919</td>\n",
       "      <td>18804</td>\n",
       "      <td>21110</td>\n",
       "      <td>81.432383</td>\n",
       "    </tr>\n",
       "    <tr>\n",
       "      <th>tth+bbh</th>\n",
       "      <td>31950</td>\n",
       "      <td>1286084</td>\n",
       "      <td>1574053</td>\n",
       "      <td>756.246989</td>\n",
       "    </tr>\n",
       "    <tr>\n",
       "      <th>bbxaa</th>\n",
       "      <td>1559</td>\n",
       "      <td>213142</td>\n",
       "      <td>22722781</td>\n",
       "      <td>4744.479915</td>\n",
       "    </tr>\n",
       "    <tr>\n",
       "      <th>total</th>\n",
       "      <td>53428</td>\n",
       "      <td>1518030</td>\n",
       "      <td>24317944</td>\n",
       "      <td>0.000000</td>\n",
       "    </tr>\n",
       "  </tbody>\n",
       "</table>\n",
       "</div>"
      ],
      "text/plain": [
       "          hhsm  tth+bbh     bbxaa            Z\n",
       "hhsm     19919    18804     21110    81.432383\n",
       "tth+bbh  31950  1286084   1574053   756.246989\n",
       "bbxaa     1559   213142  22722781  4744.479915\n",
       "total    53428  1518030  24317944     0.000000"
      ]
     },
     "execution_count": 23,
     "metadata": {},
     "output_type": "execute_result"
    }
   ],
   "source": [
    "df_array = [df_bbxaa_test, df_bbh_tth_test, df_hhsm_test]\n",
    "weight_array = [weight_bbxaa, weight_bbh_tth, weight_hhsm]\n",
    "keys = ['hhsm', 'tth+bbh', 'bbxaa']\n",
    "filename = '../results/confusion/FCC-hh-BDT/hh-BDT-3class-hhsm-SM.confusion.json'\n",
    "\n",
    "df = build_confusion(df_array, weight_array, classifier, filename, keys)\n",
    "df"
   ]
  }
 ],
 "metadata": {
  "kernelspec": {
   "display_name": "PyCharm (Tutorials)",
   "language": "python",
   "name": "pycharm-38c7cf03"
  },
  "language_info": {
   "codemirror_mode": {
    "name": "ipython",
    "version": 3
   },
   "file_extension": ".py",
   "mimetype": "text/x-python",
   "name": "python",
   "nbconvert_exporter": "python",
   "pygments_lexer": "ipython3",
   "version": "3.6.8"
  }
 },
 "nbformat": 4,
 "nbformat_minor": 4
}
