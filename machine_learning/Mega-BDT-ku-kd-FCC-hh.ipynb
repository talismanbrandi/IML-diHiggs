{
 "cells": [
  {
   "cell_type": "code",
   "execution_count": 1,
   "metadata": {},
   "outputs": [],
   "source": [
    "#####################################################################\n",
    "# This notebook is authored by: Ayan Paul & Lina Alasfar            #\n",
    "# Date: May 2022                                                    #\n",
    "# If you use this code or the results from this work please cite:   # \n",
    "# Machine learning the trilinear and light-quark Yukawa couplings   #\n",
    "# from Higgs pair kinematic shapes                                  #\n",
    "# Lina Alasfar, Ramona Gröber, Christophe Grojean, Ayan Paul        #\n",
    "# and Zuoni Qian                                                    #\n",
    "# arXiv:2207.04157 (https://arxiv.org/abs/2207.04157)               #  \n",
    "#####################################################################\n",
    "\n",
    "import numpy as np\n",
    "import pandas as pd\n",
    "import xgboost as xgb\n",
    "from sklearn import ensemble\n",
    "import sklearn.model_selection as ms\n",
    "from sklearn import metrics\n",
    "import shap\n",
    "import matplotlib.pyplot as plt\n",
    "import os\n",
    "import math as m\n",
    "import collections\n",
    "import pickle\n",
    "from matplotlib.colors import ListedColormap, LinearSegmentedColormap\n",
    "from colour import Color\n",
    "from matplotlib import rc\n",
    "import sys\n",
    "from joblib import Parallel, delayed\n",
    "import time\n",
    "\n",
    "plt.rcParams['text.latex.preamble'] = r\"\\usepackage{amsmath}\"\n",
    "plt.rcParams['font.family'] = 'monospace'\n",
    "\n",
    "\n",
    "# To supress warnings from shap\n",
    "if not sys.warnoptions:\n",
    "    import warnings\n",
    "    warnings.simplefilter(\"ignore\")\n",
    "\n",
    "N_THREADS = 25 ## Change for reducing load on CPU\n",
    "os.environ['OMP_NUM_THREADS'] = str(N_THREADS)\n",
    "seed = 420\n",
    "\n",
    "colors = ['#3f7f93','#da3b46']\n",
    "cmp_2 = LinearSegmentedColormap.from_list('my_list', [Color(c1).rgb for c1 in colors], N=len(colors))\n",
    "\n",
    "colors = ['#98b83b','#3f7f93','#da3b46']\n",
    "cmp_3 = LinearSegmentedColormap.from_list('my_list', [Color(c1).rgb for c1 in colors], N=len(colors))\n",
    "\n",
    "colors = ['#3f7f93','#da3b46','#F6AE2D', '#98b83b']\n",
    "cmp_4 = LinearSegmentedColormap.from_list('my_list', [Color(c1).rgb for c1 in colors], N=len(colors))\n",
    "\n",
    "colors = ['#3f7f93','#da3b46','#F6AE2D', '#98b83b', '#825FC3']\n",
    "cmp_5 = LinearSegmentedColormap.from_list('my_list', [Color(c1).rgb for c1 in colors], N=len(colors))\n",
    "\n",
    "colors = ['#60a0af', '#af6079', '#a8b96f', '#fcb880', '#FDD7D0', '#a5d6e0']\n",
    "cmp_6 = LinearSegmentedColormap.from_list('my_list', [Color(c1).rgb for c1 in colors], N=len(colors))\n",
    "\n",
    "colors = ['#60a0af', '#af6079', '#a8b96f', '#fcb880', '#FDD7D0', '#a5d6e0', '#825FC3']\n",
    "cmp_7 = LinearSegmentedColormap.from_list('my_list', [Color(c1).rgb for c1 in colors], N=len(colors))\n",
    "\n",
    "# how far in eta the endcap goes\n",
    "ENDCAP = 4"
   ]
  },
  {
   "cell_type": "code",
   "execution_count": 2,
   "metadata": {},
   "outputs": [],
   "source": [
    "def fileparser(path, dlist, sclass, sample, L=1, cut=False):\n",
    "    \"\"\" The fileparser to read the events from a csv\n",
    "        argument:\n",
    "            path: the path to the file\n",
    "            dlist: the list of variables to be excluded\n",
    "            sample: the number of events that will be the train sample.\n",
    "            L: Luminosity scaling\n",
    "        returns:\n",
    "            df_train: the training dataframe\n",
    "            df_test: the testing dataframe\n",
    "            weight: the weight (related to crosssection)\n",
    "    \"\"\"\n",
    "    df = pd.read_csv(path)\n",
    "    \n",
    "    n = len(df)\n",
    "    df['class'] = sclass\n",
    "    weight = int(round(np.abs(df['weight'].sum()) * 3. * 1e7 * L)) ## The abs(mean()) is taken to make the weight of ybyt +ve\n",
    "    if cut: \n",
    "        N_cut = df.drop(df[((np.abs(df['etaa1'])>ENDCAP) | (np.abs(df['etaa2'])>ENDCAP) | (np.abs(df['etab1'])>ENDCAP) | (np.abs(df['etab2'])>ENDCAP))].index).shape[0]/df.shape[0]\n",
    "        df = df.drop(df[((np.abs(df['etaa1'])>ENDCAP) | (np.abs(df['etaa2'])>ENDCAP) | (np.abs(df['etab1'])>ENDCAP) | (np.abs(df['etab2'])>ENDCAP))].index).shape[0]\n",
    "        weight /= N_cut\n",
    "        \n",
    "    df_train = df.sample(n=sample, random_state=seed)\n",
    "    df_test = df.drop(df_train.index)\n",
    "        \n",
    "    df_train.drop(columns=dlist, inplace=True)\n",
    "    df_test.drop(columns=dlist, inplace=True)\n",
    "    return df_train, df_test, weight\n",
    "\n",
    "\n",
    "def runBDT(df, filename='', rf=False, depth=10, sample=1, seed=seed):\n",
    "    \"\"\" The BDT/RF runner\n",
    "        argument:\n",
    "            df: the dataframe with all the events\n",
    "            filename: the name of the pickle file to store the model in\n",
    "            rf: a bolean to toggle between BDT and Random Forest classifiers\n",
    "            sample: The fraction of variables to sample\n",
    "            seed: the seed for the random number generator\n",
    "        returns:\n",
    "            classifier: the classifier\n",
    "            x_test: the features for the test set\n",
    "            y_test: the labels for the test set\n",
    "            shap_values: the SHAP values\n",
    "            X_shap: the feature set with which the shap values have been computed\n",
    "    \"\"\"\n",
    "    mshap = True if depth <= 10 else False\n",
    "    df = df.sample(frac=sample)\n",
    "    nchannels = len(df['class'].unique())\n",
    "    X = df.drop(columns=['class', 'weight'])\n",
    "    y = df['class'].values\n",
    "\n",
    "    # Split for training and testing\n",
    "    x_train, x_test, y_train, y_test = ms.train_test_split(X.values, y, test_size=0.2, random_state=seed)\n",
    "    eval_set = [(x_train, y_train), (x_test, y_test)]\n",
    "    \n",
    "    # Fit the decision tree\n",
    "    if rf: \n",
    "        classifier = ensemble.RandomForestClassifier(max_depth=depth, n_estimators=1000, criterion='gini', n_jobs=int(N_THREADS/2), random_state=seed)\n",
    "        classifier = classifier.fit(x_train, y_train)\n",
    "    else: \n",
    "        classifier = xgb.XGBClassifier(max_depth=depth, learning_rate=0.1, objective='multi:softprob', num_class=nchannels,\n",
    "                                       n_jobs=N_THREADS, subsample=1, colsample_bytree=1, n_estimators=5000, random_state=seed)\n",
    "        classifier = classifier.fit(x_train, y_train, early_stopping_rounds=30, eval_set=eval_set,\n",
    "                                eval_metric=[\"merror\", \"mlogloss\"], verbose=False)\n",
    "    \n",
    "    # Predictions\n",
    "    y_pred = classifier.predict(x_test)\n",
    "    print('Accuracy Score: {:4.2f}% '.format(100*metrics.accuracy_score(y_test, y_pred)))\n",
    "    if filename != '': pickle.dump(classifier, open(filename, 'wb'))\n",
    "    \n",
    "    # Calculate the SHAP scores\n",
    "    if mshap:\n",
    "        X_shap = pd.DataFrame(x_test, columns=df.drop(columns=['class', 'weight']).columns)\n",
    "        explainer = shap.TreeExplainer(classifier)\n",
    "        shap_values = explainer.shap_values(X_shap)\n",
    "    else:\n",
    "        shap_values = []\n",
    "        X_shap = pd.DataFrame()\n",
    "        \n",
    "    return classifier, x_test, y_test, shap_values, X_shap\n",
    "\n",
    "\n",
    "def eval_training(classifier):\n",
    "    \"\"\" Evaluate the training\n",
    "        argument:\n",
    "            classifier: the BDT classifier\n",
    "    \"\"\"\n",
    "    results = classifier.evals_result()\n",
    "    epochs = len(results['validation_0']['merror'])\n",
    "    x_axis = range(0, epochs)\n",
    "\n",
    "    # plot log loss\n",
    "    plt.figure(figsize=(12,5))\n",
    "    plt.subplot(1, 2, 1)\n",
    "    plt.plot(x_axis, results['validation_0']['mlogloss'], label='train')\n",
    "    plt.plot(x_axis, results['validation_1']['mlogloss'], label='test')\n",
    "    plt.legend()\n",
    "\n",
    "    plt.ylabel('log loss')\n",
    "    plt.title('Classifier log loss')\n",
    "    plt.grid()\n",
    "\n",
    "    # plot classification error\n",
    "    plt.subplot(1, 2, 2)\n",
    "    plt.plot(x_axis, results['validation_0']['merror'], label='train')\n",
    "    plt.plot(x_axis, results['validation_1']['merror'], label='test')\n",
    "    plt.legend()\n",
    "\n",
    "    plt.ylabel('Classification Error')\n",
    "    plt.title('Classification Error')\n",
    "    plt.grid()\n",
    "    plt.show()\n",
    "    \n",
    "    \n",
    "def abs_shap(df_shap, df, shap_plot, names, class_names, cmp):\n",
    "    ''' A function to plot the bar plot for the mean abs SHAP values\n",
    "        arguments:\n",
    "            df_shap: the dataframe of the SHAP values\n",
    "            df: the dataframe for the feature values for which the SHAP values have been determined\n",
    "            shap_plot: The name of the output file for the plot\n",
    "            names: The names of the variables\n",
    "            class_names: names of the classes\n",
    "            cmp: the colour map\n",
    "    '''\n",
    "    rc('text', usetex=True)\n",
    "    plt.rcParams['text.latex.preamble'] = r\"\\usepackage{amsmath}\"\n",
    "    plt.figure(figsize=(5,5))\n",
    "    shap.summary_plot(df_shap, df, color=cmp, class_names=class_names, class_inds='original', plot_size=(5,5), show=False, feature_names=names)\n",
    "    ax = plt.gca()\n",
    "    handles, labels = ax.get_legend_handles_labels()\n",
    "    ax.legend(reversed(handles), reversed(labels), loc='lower right', fontsize=15)\n",
    "    plt.xlabel(r'$\\overline{|S_v|}$', fontsize=15)\n",
    "    ax = plt.gca()\n",
    "    ax.spines[\"top\"].set_visible(True)\n",
    "    ax.spines[\"right\"].set_visible(True)\n",
    "    ax.spines[\"left\"].set_visible(True)\n",
    "    vals = ax.get_xticks()\n",
    "    ax.tick_params(axis='both', which='major', labelsize=15)\n",
    "    for tick in vals:\n",
    "        ax.axvline(x=tick, linestyle='dashed', alpha=0.7, color='#808080', zorder=0, linewidth=0.5)\n",
    "    plt.annotate('FCC-hh', xy=(0.5, 0.01), xycoords='axes fraction', horizontalalignment='center',\n",
    "                verticalalignment='bottom', fontsize=20, fontweight='900', zorder=100, color='#474747')\n",
    "    plt.tight_layout()\n",
    "    plt.savefig(shap_plot, dpi=300)\n",
    "    rc('text', usetex=False)\n",
    "    \n",
    "def get_mclass(i, df_array, weight_array, ps_exp_class, seed=seed):\n",
    "    \"\"\" This function is used to create the confusion matrix\n",
    "        arguments:\n",
    "            i: integer corresponding to the class number\n",
    "            df_array: the array of the dataframes of the different classes\n",
    "            weight_array: the array of the weights for the different classes\n",
    "            ps_exp_class: the collection of the pseudo experiment events\n",
    "            seed: the seed for the random number generator\n",
    "        returns:\n",
    "            nevents: the number of events\n",
    "    \"\"\"\n",
    "    nchannels = len(df_array)\n",
    "    mclass = []\n",
    "    for j in range(nchannels):\n",
    "        mclass.append(collections.Counter(classifier.predict(df_array[j].iloc[:,:-2].values))[i]/len(df_array[j])*weight_array[j]/weight_array[i])\n",
    "    nevents = np.round(ps_exp_class[i]/np.sum(mclass)*np.array(mclass)).astype(int)\n",
    "    return nevents\n",
    "\n",
    "\n",
    "def build_confusion(df, weight, clf, filename, keys):\n",
    "    \"\"\" Export the confusion matrix to a json\n",
    "        argument:\n",
    "            df: array of dataframes with the signal and background\n",
    "            weight: array of weights for the signal and background\n",
    "            clf: the classifier\n",
    "            filename: the name of the file to export to\n",
    "            keys: the channel names for which the confusion matrix is created\n",
    "        returns:\n",
    "            df: dataframe with the confusion matrix\n",
    "    \"\"\"\n",
    "    ps_exp_class = collections.Counter(clf.predict(\n",
    "        pd.concat([df[i].iloc[:,:-2].sample(n=round(weight[i]), random_state=seed, replace=True) for i in range(len(df))])\n",
    "        .values))\n",
    "\n",
    "    confusion = np.column_stack([get_mclass(i, df, weight, ps_exp_class) for i in reversed(range(len(df)))])\n",
    "    \n",
    "    df = pd.DataFrame(confusion.T)\n",
    "    df = df[df.columns[::-1]]\n",
    "    df.columns = keys\n",
    "    df.index = keys\n",
    "    df = df.T\n",
    "    df['total'] = df.sum(axis=1)\n",
    "    df = df.T\n",
    "    df['Z'] = 0\n",
    "    for key in keys:\n",
    "        df.loc[key,'Z'] = df.loc[key, key]/np.sqrt(df.loc[key].sum())\n",
    "    df.T.to_json(filename)\n",
    "    return df"
   ]
  },
  {
   "cell_type": "code",
   "execution_count": 3,
   "metadata": {},
   "outputs": [
    {
     "name": "stdout",
     "output_type": "stream",
     "text": [
      "No. of kappa_d triangle events: train = 20000, test = 127973\n",
      "No. of kappa_u triangle events: train = 20000, test = 45908\n",
      "No. of hhsm events: train = 10904, test = 263935\n",
      "No. of hhsm triangle events: train = 20000, test = 83648\n",
      "No. of hhsm interference events: train = 20000, test = 87973\n",
      "No. of hhsm box events: train = 20000, test = 92314\n",
      "No. of bbh+tth events: train = 93472, test = 1089272\n",
      "No. of bbxaa events: train = 120000, test = 106981\n"
     ]
    }
   ],
   "source": [
    "dlist = ['ptb2', 'etaaa', 'dphibb', 'drba1', 'dphiba1', 'drbamin', 'nbjet', 'etab2']\n",
    "\n",
    "# k-factors\n",
    "k_box = 1.98\n",
    "k_int = 2.15\n",
    "k_tri = 2.28\n",
    "k_bbh_yb2 = 1.5\n",
    "k_bbh_ybyt = 1.9\n",
    "k_bbh_yt2 = 2.5\n",
    "k_bbh_zh = 1.3\n",
    "k_tth = 1.2\n",
    "k_bbxaa = 1.5\n",
    "k_ku = 1.29\n",
    "k_kd = 1.3\n",
    "\n",
    "# 14 TeV\n",
    "path = '../simulations/FCC-hh/'\n",
    "\n",
    "# The bbxaa background\n",
    "df_bbxaa, df_bbxaa_test, weight_bbxaa = fileparser(path+\"bbxaa.tar.gz\", dlist, sclass=0, sample=120000)\n",
    "weight_bbxaa = weight_bbxaa*k_bbxaa\n",
    "\n",
    "# The tth+bbh background\n",
    "fact = 0.3\n",
    "df_tth, df_tth_test, weight_tth = fileparser(path+\"ttH.tar.gz\", dlist, sclass=1, sample=int(188372*fact))\n",
    "df_yb2, df_yb2_test, weight_yb2 = fileparser(path+\"yb2.tar.gz\", dlist, sclass=1, sample=int(20259*fact))\n",
    "df_ybyt, df_ybyt_test, weight_ybyt = fileparser(path+\"ybyt.tar.gz\", dlist, sclass=1, sample=int(3910*fact))\n",
    "df_yt2, df_yt2_test, weight_yt2 = fileparser(path+\"yt2.tar.gz\", dlist, sclass=1, sample=int(91992*fact))\n",
    "df_zh, df_zh_test, weight_zh = fileparser(path+\"zh.tar.gz\", dlist, sclass=1, sample=int(7047*fact))\n",
    "\n",
    "df_bbh_tth = pd.concat([df_tth, df_yb2, df_ybyt, df_yt2, df_zh])\n",
    "df_bbh_tth_test = pd.concat([df_tth_test, df_yb2_test, df_ybyt_test, df_yt2_test, df_zh_test])\n",
    "weight_bbh_tth = int(weight_tth*k_tth + weight_yb2*k_bbh_yb2 - weight_ybyt*k_bbh_ybyt + weight_yt2*k_bbh_yt2 + weight_zh*k_bbh_zh)\n",
    "\n",
    "# The hhsm signal\n",
    "df_hhsm_b, df_hhsm_b_test, weight_hhsm_b = fileparser(path+\"HH-box.tar.gz\", dlist, sclass=2, sample=20000)\n",
    "df_hhsm_i, df_hhsm_i_test, weight_hhsm_i = fileparser(path+\"HH-int.tar.gz\", dlist, sclass=3, sample=20000)\n",
    "df_hhsm_t, df_hhsm_t_test, weight_hhsm_t = fileparser(path+\"HH-tri.tar.gz\", dlist, sclass=4, sample=20000)\n",
    "weight_hhsm_b = weight_hhsm_b*k_box\n",
    "weight_hhsm_i = weight_hhsm_i*k_int\n",
    "weight_hhsm_t = weight_hhsm_t*k_tri\n",
    "\n",
    "fact = 0.06\n",
    "df_hhsm = pd.concat([df_hhsm_b.sample(n=int(weight_hhsm_b*fact)), df_hhsm_i.sample(n=int(weight_hhsm_i*fact)), df_hhsm_t.sample(n=int(weight_hhsm_t*fact))])\n",
    "df_hhsm['class'] = 2\n",
    "df_hhsm_test = pd.concat([df_hhsm_b_test, df_hhsm_i_test, df_hhsm_t_test])\n",
    "df_hhsm_test['class'] = 2\n",
    "weight_hhsm = int(weight_hhsm_b - weight_hhsm_i + weight_hhsm_t)\n",
    "\n",
    "# kappa_u and kappa_d\n",
    "df_ku, df_ku_test, weight_ku = fileparser(path+\"ku-480.tar.gz\", dlist, sclass=5, sample=20000)\n",
    "df_kd, df_kd_test, weight_kd = fileparser(path+\"kd-225.tar.gz\", dlist, sclass=5, sample=20000)\n",
    "weight_ku = weight_ku*k_ku\n",
    "weight_kd = weight_kd*k_kd\n",
    "\n",
    "\n",
    "print(\"No. of kappa_d triangle events: train = {}, test = {}\".format(df_kd.shape[0],df_kd_test.shape[0]))\n",
    "print(\"No. of kappa_u triangle events: train = {}, test = {}\".format(df_ku.shape[0],df_ku_test.shape[0]))\n",
    "print(\"No. of hhsm events: train = {}, test = {}\".format(df_hhsm.shape[0],df_hhsm_test.shape[0]))\n",
    "print(\"No. of hhsm triangle events: train = {}, test = {}\".format(df_hhsm_t.shape[0],df_hhsm_t_test.shape[0]))\n",
    "print(\"No. of hhsm interference events: train = {}, test = {}\".format(df_hhsm_i.shape[0],df_hhsm_i_test.shape[0]))\n",
    "print(\"No. of hhsm box events: train = {}, test = {}\".format(df_hhsm_b.shape[0],df_hhsm_b_test.shape[0]))\n",
    "print(\"No. of bbh+tth events: train = {}, test = {}\".format(df_bbh_tth.shape[0],df_bbh_tth_test.shape[0]))\n",
    "print(\"No. of bbxaa events: train = {}, test = {}\".format(df_bbxaa.shape[0],df_bbxaa_test.shape[0]))\n",
    "\n",
    "names = [r'$n_{jet}$', r'$p_T^{b_1}$', r'$p_T^{\\gamma_1}$', r'$p_T^{\\gamma_2}$', r'$p_T^{\\gamma\\gamma}$', r'$\\eta_{b_1}$', r'$\\eta_{\\gamma_1}$', r'$\\eta_{\\gamma_2}$',\n",
    "         r'$m_{bb}$', r'$m_{\\gamma\\gamma}$', r'$m_{b_1h}$', r'$m_{bbh}$', r'$E^{\\rm miss}_T$', r'$H_T$']"
   ]
  },
  {
   "cell_type": "markdown",
   "metadata": {},
   "source": [
    "## Just kappa_u and kappa_d"
   ]
  },
  {
   "cell_type": "code",
   "execution_count": 4,
   "metadata": {},
   "outputs": [],
   "source": [
    "df_ku['class'] = 1\n",
    "df_ku_test['class'] = 1\n",
    "df_kd['class'] = 0\n",
    "df_kd_test['class'] = 0\n",
    "\n",
    "channels = [df_ku, df_kd]\n",
    "df_train = pd.concat(channels, ignore_index=True)\n",
    "df_train = df_train.sample(frac=1).reset_index(drop=True)\n",
    "\n",
    "names_orig = names"
   ]
  },
  {
   "cell_type": "code",
   "execution_count": 5,
   "metadata": {
    "pycharm": {
     "is_executing": false,
     "name": "#%%\n"
    }
   },
   "outputs": [
    {
     "name": "stdout",
     "output_type": "stream",
     "text": [
      "Accuracy Score: 54.11% \n"
     ]
    },
    {
     "data": {
      "image/png": "[encoded data removed]",
      "text/plain": [
       "<Figure size 360x360 with 1 Axes>"
      ]
     },
     "metadata": {
      "needs_background": "light"
     },
     "output_type": "display_data"
    }
   ],
   "source": [
    "class_names = [r'$d \\bar d hh$', r'$u \\bar u hh$']\n",
    "filename = '../results/models/FCC-hh-BDT/hh-BDT-2class-ku-kd.pickle.dat'\n",
    "shap_plot = '../plots/FCC-hh-shap-ku-kd.pdf'\n",
    "\n",
    "classifier, x_test, y_test, shap_values_2ud, X_shap_2ud = runBDT(df_train, filename, depth=10)\n",
    "abs_shap(shap_values_2ud, X_shap_2ud, shap_plot, names=names, class_names=class_names, cmp=cmp_5)"
   ]
  },
  {
   "cell_type": "code",
   "execution_count": 6,
   "metadata": {},
   "outputs": [
    {
     "name": "stdout",
     "output_type": "stream",
     "text": [
      "Accuracy Score for ku: 42.29% \n",
      "Accuracy Score for kd: 62.09% \n"
     ]
    }
   ],
   "source": [
    "ku_p = df_ku_test.sample(n=round(weight_ku), replace=True, random_state=seed).reset_index(drop=True)\n",
    "kd_p = df_kd_test.sample(n=round(weight_kd), replace=True, random_state=seed).reset_index(drop=True)\n",
    "\n",
    "print('Accuracy Score for ku: {:4.2f}% '.format(100*metrics.accuracy_score(ku_p['class'].values, classifier.predict(ku_p.drop(columns=['class', 'weight']).values))))\n",
    "print('Accuracy Score for kd: {:4.2f}% '.format(100*metrics.accuracy_score(kd_p['class'].values, classifier.predict(kd_p.drop(columns=['class', 'weight']).values))))"
   ]
  },
  {
   "cell_type": "code",
   "execution_count": 7,
   "metadata": {},
   "outputs": [
    {
     "data": {
      "text/html": [
       "<div>\n",
       "<style scoped>\n",
       "    .dataframe tbody tr th:only-of-type {\n",
       "        vertical-align: middle;\n",
       "    }\n",
       "\n",
       "    .dataframe tbody tr th {\n",
       "        vertical-align: top;\n",
       "    }\n",
       "\n",
       "    .dataframe thead th {\n",
       "        text-align: right;\n",
       "    }\n",
       "</style>\n",
       "<table border=\"1\" class=\"dataframe\">\n",
       "  <thead>\n",
       "    <tr style=\"text-align: right;\">\n",
       "      <th></th>\n",
       "      <th>ku</th>\n",
       "      <th>kd</th>\n",
       "      <th>Z</th>\n",
       "    </tr>\n",
       "  </thead>\n",
       "  <tbody>\n",
       "    <tr>\n",
       "      <th>ku</th>\n",
       "      <td>17641</td>\n",
       "      <td>16839</td>\n",
       "      <td>95.003493</td>\n",
       "    </tr>\n",
       "    <tr>\n",
       "      <th>kd</th>\n",
       "      <td>24223</td>\n",
       "      <td>27408</td>\n",
       "      <td>120.620765</td>\n",
       "    </tr>\n",
       "    <tr>\n",
       "      <th>total</th>\n",
       "      <td>41864</td>\n",
       "      <td>44247</td>\n",
       "      <td>0.000000</td>\n",
       "    </tr>\n",
       "  </tbody>\n",
       "</table>\n",
       "</div>"
      ],
      "text/plain": [
       "          ku     kd           Z\n",
       "ku     17641  16839   95.003493\n",
       "kd     24223  27408  120.620765\n",
       "total  41864  44247    0.000000"
      ]
     },
     "execution_count": 7,
     "metadata": {},
     "output_type": "execute_result"
    }
   ],
   "source": [
    "df_array = [df_kd_test, df_ku_test]\n",
    "weight_array = [weight_kd, weight_ku]\n",
    "keys = ['ku', 'kd']\n",
    "filename = '../results/confusion/FCC-hh-BDT/hh-BDT-2class-ku-kd.confusion.json'\n",
    "\n",
    "df = build_confusion(df_array, weight_array, classifier, filename, keys)\n",
    "df"
   ]
  },
  {
   "cell_type": "markdown",
   "metadata": {},
   "source": [
    "## hh and kappa_u, kappa_d"
   ]
  },
  {
   "cell_type": "code",
   "execution_count": 8,
   "metadata": {},
   "outputs": [],
   "source": [
    "df_ku['class'] = 2\n",
    "df_ku_test['class'] = 2\n",
    "df_kd['class'] = 1\n",
    "df_kd_test['class'] = 1\n",
    "df_hhsm['class'] = 0\n",
    "df_hhsm_test['class'] = 0\n",
    "\n",
    "channels = [df_ku, df_kd, df_hhsm]\n",
    "df_train = pd.concat(channels, ignore_index=True)\n",
    "df_train = df_train.sample(frac=1).reset_index(drop=True)\n",
    "\n",
    "names_orig = names"
   ]
  },
  {
   "cell_type": "code",
   "execution_count": 9,
   "metadata": {
    "pycharm": {
     "is_executing": false,
     "name": "#%%\n"
    }
   },
   "outputs": [
    {
     "name": "stdout",
     "output_type": "stream",
     "text": [
      "Accuracy Score: 45.58% \n"
     ]
    },
    {
     "data": {
      "image/png": "[encoded data removed]",
      "text/plain": [
       "<Figure size 360x360 with 1 Axes>"
      ]
     },
     "metadata": {
      "needs_background": "light"
     },
     "output_type": "display_data"
    }
   ],
   "source": [
    "class_names = [r'$hh^{gg\\rm F}$', r'$d \\bar d hh$', r'$u \\bar u hh$']\n",
    "filename = '../results/models/FCC-hh-BDT/hh-BDT-2class-ku-kd-hhsm.pickle.dat'\n",
    "shap_plot = '../plots/FCC-hh-shap-ku-kd-hhsm.pdf'\n",
    "\n",
    "classifier, x_test, y_test, shap_values_3ud, X_shap_3ud = runBDT(df_train, filename, depth=10)\n",
    "abs_shap(shap_values_3ud, X_shap_3ud, shap_plot, names=names, class_names=class_names, cmp=cmp_3)"
   ]
  },
  {
   "cell_type": "code",
   "execution_count": 10,
   "metadata": {},
   "outputs": [
    {
     "name": "stdout",
     "output_type": "stream",
     "text": [
      "Accuracy Score for ku: 42.11% \n",
      "Accuracy Score for kd: 49.39% \n",
      "Accuracy Score for hhsm: 44.66% \n"
     ]
    }
   ],
   "source": [
    "ku_p = df_ku_test.sample(n=round(weight_ku), replace=True, random_state=seed).reset_index(drop=True)\n",
    "kd_p = df_kd_test.sample(n=round(weight_kd), replace=True, random_state=seed).reset_index(drop=True)\n",
    "hhsm_p = df_hhsm_test.sample(n=round(weight_hhsm), replace=True, random_state=seed).reset_index(drop=True)\n",
    "\n",
    "print('Accuracy Score for ku: {:4.2f}% '.format(100*metrics.accuracy_score(ku_p['class'].values, classifier.predict(ku_p.drop(columns=['class', 'weight']).values))))\n",
    "print('Accuracy Score for kd: {:4.2f}% '.format(100*metrics.accuracy_score(kd_p['class'].values, classifier.predict(kd_p.drop(columns=['class', 'weight']).values))))\n",
    "print('Accuracy Score for hhsm: {:4.2f}% '.format(100*metrics.accuracy_score(hhsm_p['class'].values, classifier.predict(hhsm_p.drop(columns=['class', 'weight']).values))))"
   ]
  },
  {
   "cell_type": "code",
   "execution_count": 11,
   "metadata": {},
   "outputs": [
    {
     "data": {
      "text/html": [
       "<div>\n",
       "<style scoped>\n",
       "    .dataframe tbody tr th:only-of-type {\n",
       "        vertical-align: middle;\n",
       "    }\n",
       "\n",
       "    .dataframe tbody tr th {\n",
       "        vertical-align: top;\n",
       "    }\n",
       "\n",
       "    .dataframe thead th {\n",
       "        text-align: right;\n",
       "    }\n",
       "</style>\n",
       "<table border=\"1\" class=\"dataframe\">\n",
       "  <thead>\n",
       "    <tr style=\"text-align: right;\">\n",
       "      <th></th>\n",
       "      <th>ku</th>\n",
       "      <th>kd</th>\n",
       "      <th>hhsm</th>\n",
       "      <th>Z</th>\n",
       "    </tr>\n",
       "  </thead>\n",
       "  <tbody>\n",
       "    <tr>\n",
       "      <th>ku</th>\n",
       "      <td>10379</td>\n",
       "      <td>17677</td>\n",
       "      <td>16936</td>\n",
       "      <td>48.931425</td>\n",
       "    </tr>\n",
       "    <tr>\n",
       "      <th>kd</th>\n",
       "      <td>19282</td>\n",
       "      <td>19183</td>\n",
       "      <td>21751</td>\n",
       "      <td>78.173683</td>\n",
       "    </tr>\n",
       "    <tr>\n",
       "      <th>hhsm</th>\n",
       "      <td>23809</td>\n",
       "      <td>4999</td>\n",
       "      <td>5569</td>\n",
       "      <td>30.036079</td>\n",
       "    </tr>\n",
       "    <tr>\n",
       "      <th>total</th>\n",
       "      <td>53470</td>\n",
       "      <td>41859</td>\n",
       "      <td>44256</td>\n",
       "      <td>0.000000</td>\n",
       "    </tr>\n",
       "  </tbody>\n",
       "</table>\n",
       "</div>"
      ],
      "text/plain": [
       "          ku     kd   hhsm          Z\n",
       "ku     10379  17677  16936  48.931425\n",
       "kd     19282  19183  21751  78.173683\n",
       "hhsm   23809   4999   5569  30.036079\n",
       "total  53470  41859  44256   0.000000"
      ]
     },
     "execution_count": 11,
     "metadata": {},
     "output_type": "execute_result"
    }
   ],
   "source": [
    "df_array = [df_kd_test, df_ku_test, df_hhsm_test]\n",
    "weight_array = [weight_kd, weight_ku, weight_hhsm]\n",
    "keys = ['ku', 'kd', 'hhsm']\n",
    "filename = '../results/confusion/FCC-hh-BDT/hh-BDT-2class-ku-kd-hhsm.confusion.json'\n",
    "\n",
    "df = build_confusion(df_array, weight_array, classifier, filename, keys)\n",
    "df"
   ]
  },
  {
   "cell_type": "markdown",
   "metadata": {},
   "source": [
    "_________________________________\n",
    "## kappa_u"
   ]
  },
  {
   "cell_type": "code",
   "execution_count": 12,
   "metadata": {},
   "outputs": [],
   "source": [
    "df_ku['class'] = 3\n",
    "df_ku_test['class'] = 3\n",
    "df_hhsm['class'] = 2\n",
    "df_hhsm_test['class'] = 2\n",
    "\n",
    "channels = [df_ku, df_hhsm, df_bbh_tth, df_bbxaa]\n",
    "df_train = pd.concat(channels, ignore_index=True)\n",
    "df_train = df_train.sample(frac=1).reset_index(drop=True)"
   ]
  },
  {
   "cell_type": "code",
   "execution_count": 13,
   "metadata": {
    "pycharm": {
     "is_executing": false,
     "name": "#%%\n"
    }
   },
   "outputs": [
    {
     "name": "stdout",
     "output_type": "stream",
     "text": [
      "Accuracy Score: 86.51% \n"
     ]
    },
    {
     "data": {
      "image/png": "[encoded data removed]",
      "text/plain": [
       "<Figure size 360x360 with 1 Axes>"
      ]
     },
     "metadata": {
      "needs_background": "light"
     },
     "output_type": "display_data"
    }
   ],
   "source": [
    "class_names = [r'$bb\\gamma\\gamma$', r'$Q\\bar{Q}h$', r'$hh^{gg\\rm F}$', r'$u \\bar u hh$']\n",
    "filename = '../results/models/FCC-hh-BDT/hh-BDT-4class-ku.pickle.dat'\n",
    "shap_plot = '../plots/FCC-hh-shap-bbxaa-bbh-tth-hhsm-ku-only.pdf'\n",
    "\n",
    "classifier, x_test, y_test, shap_values_4u, X_shap_4u = runBDT(df_train, filename, depth=10)\n",
    "abs_shap(shap_values_4u, X_shap_4u, shap_plot, names=names, class_names=class_names, cmp=cmp_5)"
   ]
  },
  {
   "cell_type": "code",
   "execution_count": 14,
   "metadata": {},
   "outputs": [
    {
     "name": "stdout",
     "output_type": "stream",
     "text": [
      "Accuracy Score for ku: 61.74% \n",
      "Accuracy Score for hhsm: 16.87% \n",
      "Accuracy Score for bbh+tth: 82.64% \n",
      "Accuracy Score for bbxaa: 93.21% \n"
     ]
    }
   ],
   "source": [
    "ku_p = df_ku_test.sample(n=round(weight_ku), replace=True, random_state=seed).reset_index(drop=True)\n",
    "hhsm_p = df_hhsm_test.sample(n=round(weight_hhsm), replace=True, random_state=seed).reset_index(drop=True)\n",
    "bbh_tth_p = df_bbh_tth_test.sample(n=round(weight_bbh_tth), replace=True, random_state=seed).reset_index(drop=True)\n",
    "bbxaa_p = df_bbxaa_test.sample(n=round(weight_bbxaa), replace=True, random_state=seed).reset_index(drop=True)\n",
    "\n",
    "print('Accuracy Score for ku: {:4.2f}% '.format(100*metrics.accuracy_score(ku_p['class'].values, classifier.predict(ku_p.drop(columns=['class', 'weight']).values))))\n",
    "print('Accuracy Score for hhsm: {:4.2f}% '.format(100*metrics.accuracy_score(hhsm_p['class'].values, classifier.predict(hhsm_p.drop(columns=['class', 'weight']).values))))\n",
    "print('Accuracy Score for bbh+tth: {:4.2f}% '.format(100*metrics.accuracy_score(bbh_tth_p['class'].values, classifier.predict(bbh_tth_p.drop(columns=['class', 'weight']).values))))\n",
    "print('Accuracy Score for bbxaa: {:4.2f}% '.format(100*metrics.accuracy_score(bbxaa_p['class'].values, classifier.predict(bbxaa_p.drop(columns=['class', 'weight']).values))))"
   ]
  },
  {
   "cell_type": "code",
   "execution_count": 15,
   "metadata": {},
   "outputs": [
    {
     "data": {
      "text/html": [
       "<div>\n",
       "<style scoped>\n",
       "    .dataframe tbody tr th:only-of-type {\n",
       "        vertical-align: middle;\n",
       "    }\n",
       "\n",
       "    .dataframe tbody tr th {\n",
       "        vertical-align: top;\n",
       "    }\n",
       "\n",
       "    .dataframe thead th {\n",
       "        text-align: right;\n",
       "    }\n",
       "</style>\n",
       "<table border=\"1\" class=\"dataframe\">\n",
       "  <thead>\n",
       "    <tr style=\"text-align: right;\">\n",
       "      <th></th>\n",
       "      <th>ku</th>\n",
       "      <th>hhsm</th>\n",
       "      <th>tth+bbh</th>\n",
       "      <th>bbxaa</th>\n",
       "      <th>Z</th>\n",
       "    </tr>\n",
       "  </thead>\n",
       "  <tbody>\n",
       "    <tr>\n",
       "      <th>ku</th>\n",
       "      <td>25878</td>\n",
       "      <td>12009</td>\n",
       "      <td>48191</td>\n",
       "      <td>55709</td>\n",
       "      <td>68.724644</td>\n",
       "    </tr>\n",
       "    <tr>\n",
       "      <th>hhsm</th>\n",
       "      <td>2462</td>\n",
       "      <td>16472</td>\n",
       "      <td>8369</td>\n",
       "      <td>8353</td>\n",
       "      <td>87.232842</td>\n",
       "    </tr>\n",
       "    <tr>\n",
       "      <th>tth+bbh</th>\n",
       "      <td>12501</td>\n",
       "      <td>24084</td>\n",
       "      <td>1256140</td>\n",
       "      <td>1585256</td>\n",
       "      <td>740.447181</td>\n",
       "    </tr>\n",
       "    <tr>\n",
       "      <th>bbxaa</th>\n",
       "      <td>1019</td>\n",
       "      <td>814</td>\n",
       "      <td>206801</td>\n",
       "      <td>22667205</td>\n",
       "      <td>4739.248232</td>\n",
       "    </tr>\n",
       "    <tr>\n",
       "      <th>total</th>\n",
       "      <td>41860</td>\n",
       "      <td>53379</td>\n",
       "      <td>1519501</td>\n",
       "      <td>24316523</td>\n",
       "      <td>0.000000</td>\n",
       "    </tr>\n",
       "  </tbody>\n",
       "</table>\n",
       "</div>"
      ],
      "text/plain": [
       "            ku   hhsm  tth+bbh     bbxaa            Z\n",
       "ku       25878  12009    48191     55709    68.724644\n",
       "hhsm      2462  16472     8369      8353    87.232842\n",
       "tth+bbh  12501  24084  1256140   1585256   740.447181\n",
       "bbxaa     1019    814   206801  22667205  4739.248232\n",
       "total    41860  53379  1519501  24316523     0.000000"
      ]
     },
     "execution_count": 15,
     "metadata": {},
     "output_type": "execute_result"
    }
   ],
   "source": [
    "df_array = [df_bbxaa_test, df_bbh_tth_test, df_hhsm, df_ku_test]\n",
    "weight_array = [weight_bbxaa, weight_bbh_tth, weight_hhsm, weight_ku]\n",
    "keys = ['ku', 'hhsm', 'tth+bbh', 'bbxaa']\n",
    "filename = '../results/confusion/FCC-hh-BDT/hh-BDT-4class-ku-only.confusion.json'\n",
    "\n",
    "df = build_confusion(df_array, weight_array, classifier, filename, keys)\n",
    "df"
   ]
  },
  {
   "cell_type": "markdown",
   "metadata": {},
   "source": [
    "_________________________________\n",
    "## kappa_d"
   ]
  },
  {
   "cell_type": "code",
   "execution_count": 16,
   "metadata": {},
   "outputs": [],
   "source": [
    "df_kd['class'] = 3\n",
    "df_kd_test['class'] = 3\n",
    "df_hhsm['class'] = 2\n",
    "df_hhsm_test['class'] = 2\n",
    "\n",
    "channels = [df_kd, df_hhsm, df_bbh_tth, df_bbxaa]\n",
    "df_train = pd.concat(channels, ignore_index=True)\n",
    "df_train = df_train.sample(frac=1).reset_index(drop=True)"
   ]
  },
  {
   "cell_type": "code",
   "execution_count": 17,
   "metadata": {
    "pycharm": {
     "is_executing": false,
     "name": "#%%\n"
    }
   },
   "outputs": [
    {
     "name": "stdout",
     "output_type": "stream",
     "text": [
      "Accuracy Score: 86.35% \n"
     ]
    },
    {
     "data": {
      "image/png": "[encoded data removed]",
      "text/plain": [
       "<Figure size 360x360 with 1 Axes>"
      ]
     },
     "metadata": {
      "needs_background": "light"
     },
     "output_type": "display_data"
    }
   ],
   "source": [
    "class_names = [r'$bb\\gamma\\gamma$', r'$Q\\bar{Q}h$', r'$hh^{gg\\rm F}$', r'$d \\bar d hh$']\n",
    "filename = '../results/models/FCC-hh-BDT/hh-BDT-4class-kd.pickle.dat'\n",
    "shap_plot = '../plots/FCC-hh-shap-bbxaa-bbh-tth-hhsm-kd-only.pdf'\n",
    "\n",
    "classifier, x_test, y_test, shap_values_4d, X_shap_4d = runBDT(df_train, filename, depth=10)\n",
    "abs_shap(shap_values_4d, X_shap_4d, shap_plot, names=names, class_names=class_names, cmp=cmp_5)"
   ]
  },
  {
   "cell_type": "code",
   "execution_count": 18,
   "metadata": {},
   "outputs": [
    {
     "name": "stdout",
     "output_type": "stream",
     "text": [
      "Accuracy Score for kd: 61.47% \n",
      "Accuracy Score for hhsm: 14.22% \n",
      "Accuracy Score for bbh+tth: 82.03% \n",
      "Accuracy Score for bbxaa: 93.32% \n"
     ]
    }
   ],
   "source": [
    "kd_p = df_kd_test.sample(n=round(weight_kd), replace=True, random_state=seed).reset_index(drop=True)\n",
    "hhsm_p = df_hhsm_test.sample(n=round(weight_hhsm), replace=True, random_state=seed).reset_index(drop=True)\n",
    "bbh_tth_p = df_bbh_tth_test.sample(n=round(weight_bbh_tth), replace=True, random_state=seed).reset_index(drop=True)\n",
    "bbxaa_p = df_bbxaa_test.sample(n=round(weight_bbxaa), replace=True, random_state=seed).reset_index(drop=True)\n",
    "\n",
    "print('Accuracy Score for kd: {:4.2f}% '.format(100*metrics.accuracy_score(kd_p['class'].values, classifier.predict(kd_p.drop(columns=['class', 'weight']).values))))\n",
    "print('Accuracy Score for hhsm: {:4.2f}% '.format(100*metrics.accuracy_score(hhsm_p['class'].values, classifier.predict(hhsm_p.drop(columns=['class', 'weight']).values))))\n",
    "print('Accuracy Score for bbh+tth: {:4.2f}% '.format(100*metrics.accuracy_score(bbh_tth_p['class'].values, classifier.predict(bbh_tth_p.drop(columns=['class', 'weight']).values))))\n",
    "print('Accuracy Score for bbxaa: {:4.2f}% '.format(100*metrics.accuracy_score(bbxaa_p['class'].values, classifier.predict(bbxaa_p.drop(columns=['class', 'weight']).values))))"
   ]
  },
  {
   "cell_type": "code",
   "execution_count": 19,
   "metadata": {},
   "outputs": [
    {
     "data": {
      "text/html": [
       "<div>\n",
       "<style scoped>\n",
       "    .dataframe tbody tr th:only-of-type {\n",
       "        vertical-align: middle;\n",
       "    }\n",
       "\n",
       "    .dataframe tbody tr th {\n",
       "        vertical-align: top;\n",
       "    }\n",
       "\n",
       "    .dataframe thead th {\n",
       "        text-align: right;\n",
       "    }\n",
       "</style>\n",
       "<table border=\"1\" class=\"dataframe\">\n",
       "  <thead>\n",
       "    <tr style=\"text-align: right;\">\n",
       "      <th></th>\n",
       "      <th>kd</th>\n",
       "      <th>hhsm</th>\n",
       "      <th>tth+bbh</th>\n",
       "      <th>bbxaa</th>\n",
       "      <th>Z</th>\n",
       "    </tr>\n",
       "  </thead>\n",
       "  <tbody>\n",
       "    <tr>\n",
       "      <th>kd</th>\n",
       "      <td>27149</td>\n",
       "      <td>12502</td>\n",
       "      <td>51780</td>\n",
       "      <td>54753</td>\n",
       "      <td>71.007450</td>\n",
       "    </tr>\n",
       "    <tr>\n",
       "      <th>hhsm</th>\n",
       "      <td>2079</td>\n",
       "      <td>17454</td>\n",
       "      <td>6913</td>\n",
       "      <td>6081</td>\n",
       "      <td>96.777181</td>\n",
       "    </tr>\n",
       "    <tr>\n",
       "      <th>tth+bbh</th>\n",
       "      <td>13893</td>\n",
       "      <td>22827</td>\n",
       "      <td>1246683</td>\n",
       "      <td>1563536</td>\n",
       "      <td>738.868168</td>\n",
       "    </tr>\n",
       "    <tr>\n",
       "      <th>bbxaa</th>\n",
       "      <td>1215</td>\n",
       "      <td>584</td>\n",
       "      <td>214014</td>\n",
       "      <td>22692190</td>\n",
       "      <td>4741.140173</td>\n",
       "    </tr>\n",
       "    <tr>\n",
       "      <th>total</th>\n",
       "      <td>44336</td>\n",
       "      <td>53367</td>\n",
       "      <td>1519390</td>\n",
       "      <td>24316560</td>\n",
       "      <td>0.000000</td>\n",
       "    </tr>\n",
       "  </tbody>\n",
       "</table>\n",
       "</div>"
      ],
      "text/plain": [
       "            kd   hhsm  tth+bbh     bbxaa            Z\n",
       "kd       27149  12502    51780     54753    71.007450\n",
       "hhsm      2079  17454     6913      6081    96.777181\n",
       "tth+bbh  13893  22827  1246683   1563536   738.868168\n",
       "bbxaa     1215    584   214014  22692190  4741.140173\n",
       "total    44336  53367  1519390  24316560     0.000000"
      ]
     },
     "execution_count": 19,
     "metadata": {},
     "output_type": "execute_result"
    }
   ],
   "source": [
    "df_array = [df_bbxaa_test, df_bbh_tth_test, df_hhsm, df_kd_test]\n",
    "weight_array = [weight_bbxaa, weight_bbh_tth, weight_hhsm, weight_kd]\n",
    "keys = ['kd', 'hhsm', 'tth+bbh', 'bbxaa']\n",
    "filename = '../results/confusion/FCC-hh-BDT/hh-BDT-4class-kd-only.confusion.json'\n",
    "\n",
    "df = build_confusion(df_array, weight_array, classifier, filename, keys)\n",
    "df"
   ]
  },
  {
   "cell_type": "markdown",
   "metadata": {},
   "source": [
    "_________________________________\n",
    "## The kappa_u & kappa_d"
   ]
  },
  {
   "cell_type": "code",
   "execution_count": 20,
   "metadata": {},
   "outputs": [],
   "source": [
    "df_ku['class'] = 4\n",
    "df_ku_test['class'] = 4\n",
    "df_kd['class'] = 3\n",
    "df_kd_test['class'] = 3\n",
    "df_hhsm['class'] = 2\n",
    "df_hhsm_test['class'] = 2\n",
    "\n",
    "channels = [df_ku, df_kd, df_hhsm, df_bbh_tth, df_bbxaa]\n",
    "df_train = pd.concat(channels, ignore_index=True)\n",
    "df_train = df_train.sample(frac=1).reset_index(drop=True)"
   ]
  },
  {
   "cell_type": "code",
   "execution_count": 21,
   "metadata": {
    "pycharm": {
     "is_executing": false,
     "name": "#%%\n"
    }
   },
   "outputs": [
    {
     "name": "stdout",
     "output_type": "stream",
     "text": [
      "Accuracy Score: 79.97% \n"
     ]
    },
    {
     "data": {
      "image/png": "[encoded data removed]",
      "text/plain": [
       "<Figure size 360x360 with 1 Axes>"
      ]
     },
     "metadata": {
      "needs_background": "light"
     },
     "output_type": "display_data"
    }
   ],
   "source": [
    "class_names = [r'$bb\\gamma\\gamma$', r'$Q\\bar{Q}h$', r'$hh^{gg\\rm F}$', r'$d \\bar d hh$', r'$d \\bar d hh$']\n",
    "filename = '../results/models/FCC-hh-BDT/hh-BDT-5class-ku-kd.pickle.dat'\n",
    "shap_plot = '../plots/FCC-hh-shap-bbxaa-bbh-tth-hhsm-ku-kd.pdf'\n",
    "\n",
    "classifier, x_test, y_test, shap_values_5ud, X_shap_5ud = runBDT(df_train, filename, depth=10)\n",
    "abs_shap(shap_values_5ud, X_shap_5ud, shap_plot, names=names, class_names=class_names, cmp=cmp_5)"
   ]
  },
  {
   "cell_type": "code",
   "execution_count": 22,
   "metadata": {},
   "outputs": [
    {
     "name": "stdout",
     "output_type": "stream",
     "text": [
      "Accuracy Score for ku: 34.07% \n",
      "Accuracy Score for kd: 34.24% \n",
      "Accuracy Score for hhsm: 12.92% \n",
      "Accuracy Score for bbh+tth: 81.81% \n",
      "Accuracy Score for bbxaa: 93.21% \n"
     ]
    }
   ],
   "source": [
    "ku_p = df_ku_test.sample(n=round(weight_ku), replace=True, random_state=seed).reset_index(drop=True)\n",
    "kd_p = df_kd_test.sample(n=round(weight_kd), replace=True, random_state=seed).reset_index(drop=True)\n",
    "hhsm_p = df_hhsm_test.sample(n=round(weight_hhsm), replace=True, random_state=seed).reset_index(drop=True)\n",
    "bbh_tth_p = df_bbh_tth_test.sample(n=round(weight_bbh_tth), replace=True, random_state=seed).reset_index(drop=True)\n",
    "bbxaa_p = df_bbxaa_test.sample(n=round(weight_bbxaa), replace=True, random_state=seed).reset_index(drop=True)\n",
    "\n",
    "print('Accuracy Score for ku: {:4.2f}% '.format(100*metrics.accuracy_score(ku_p['class'].values, classifier.predict(ku_p.drop(columns=['class', 'weight']).values))))\n",
    "print('Accuracy Score for kd: {:4.2f}% '.format(100*metrics.accuracy_score(kd_p['class'].values, classifier.predict(kd_p.drop(columns=['class', 'weight']).values))))\n",
    "print('Accuracy Score for hhsm: {:4.2f}% '.format(100*metrics.accuracy_score(hhsm_p['class'].values, classifier.predict(hhsm_p.drop(columns=['class', 'weight']).values))))\n",
    "print('Accuracy Score for bbh+tth: {:4.2f}% '.format(100*metrics.accuracy_score(bbh_tth_p['class'].values, classifier.predict(bbh_tth_p.drop(columns=['class', 'weight']).values))))\n",
    "print('Accuracy Score for bbxaa: {:4.2f}% '.format(100*metrics.accuracy_score(bbxaa_p['class'].values, classifier.predict(bbxaa_p.drop(columns=['class', 'weight']).values))))"
   ]
  },
  {
   "cell_type": "code",
   "execution_count": 23,
   "metadata": {},
   "outputs": [
    {
     "data": {
      "text/html": [
       "<div>\n",
       "<style scoped>\n",
       "    .dataframe tbody tr th:only-of-type {\n",
       "        vertical-align: middle;\n",
       "    }\n",
       "\n",
       "    .dataframe tbody tr th {\n",
       "        vertical-align: top;\n",
       "    }\n",
       "\n",
       "    .dataframe thead th {\n",
       "        text-align: right;\n",
       "    }\n",
       "</style>\n",
       "<table border=\"1\" class=\"dataframe\">\n",
       "  <thead>\n",
       "    <tr style=\"text-align: right;\">\n",
       "      <th></th>\n",
       "      <th>ku</th>\n",
       "      <th>kd</th>\n",
       "      <th>hhsm</th>\n",
       "      <th>tth+bbh</th>\n",
       "      <th>bbxaa</th>\n",
       "      <th>Z</th>\n",
       "    </tr>\n",
       "  </thead>\n",
       "  <tbody>\n",
       "    <tr>\n",
       "      <th>ku</th>\n",
       "      <td>14202</td>\n",
       "      <td>13288</td>\n",
       "      <td>5873</td>\n",
       "      <td>25896</td>\n",
       "      <td>35841</td>\n",
       "      <td>46.053140</td>\n",
       "    </tr>\n",
       "    <tr>\n",
       "      <th>kd</th>\n",
       "      <td>13394</td>\n",
       "      <td>15080</td>\n",
       "      <td>9435</td>\n",
       "      <td>33866</td>\n",
       "      <td>34986</td>\n",
       "      <td>46.152478</td>\n",
       "    </tr>\n",
       "    <tr>\n",
       "      <th>hhsm</th>\n",
       "      <td>1475</td>\n",
       "      <td>1704</td>\n",
       "      <td>14369</td>\n",
       "      <td>5441</td>\n",
       "      <td>5685</td>\n",
       "      <td>84.855970</td>\n",
       "    </tr>\n",
       "    <tr>\n",
       "      <th>tth+bbh</th>\n",
       "      <td>11760</td>\n",
       "      <td>12978</td>\n",
       "      <td>23055</td>\n",
       "      <td>1243562</td>\n",
       "      <td>1573930</td>\n",
       "      <td>734.655154</td>\n",
       "    </tr>\n",
       "    <tr>\n",
       "      <th>bbxaa</th>\n",
       "      <td>999</td>\n",
       "      <td>1173</td>\n",
       "      <td>740</td>\n",
       "      <td>210561</td>\n",
       "      <td>22666217</td>\n",
       "      <td>4738.642818</td>\n",
       "    </tr>\n",
       "    <tr>\n",
       "      <th>total</th>\n",
       "      <td>41830</td>\n",
       "      <td>44223</td>\n",
       "      <td>53472</td>\n",
       "      <td>1519326</td>\n",
       "      <td>24316659</td>\n",
       "      <td>0.000000</td>\n",
       "    </tr>\n",
       "  </tbody>\n",
       "</table>\n",
       "</div>"
      ],
      "text/plain": [
       "            ku     kd   hhsm  tth+bbh     bbxaa            Z\n",
       "ku       14202  13288   5873    25896     35841    46.053140\n",
       "kd       13394  15080   9435    33866     34986    46.152478\n",
       "hhsm      1475   1704  14369     5441      5685    84.855970\n",
       "tth+bbh  11760  12978  23055  1243562   1573930   734.655154\n",
       "bbxaa      999   1173    740   210561  22666217  4738.642818\n",
       "total    41830  44223  53472  1519326  24316659     0.000000"
      ]
     },
     "execution_count": 23,
     "metadata": {},
     "output_type": "execute_result"
    }
   ],
   "source": [
    "df_array = [df_bbxaa_test, df_bbh_tth_test, df_hhsm, df_kd_test, df_ku_test]\n",
    "weight_array = [weight_bbxaa, weight_bbh_tth, weight_hhsm, weight_kd, weight_ku]\n",
    "keys = ['ku', 'kd', 'hhsm', 'tth+bbh', 'bbxaa']\n",
    "filename = '../results/confusion/FCC-hh-BDT/hh-BDT-5class-ku-kd.confusion.json'\n",
    "\n",
    "df = build_confusion(df_array, weight_array, classifier, filename, keys)\n",
    "df"
   ]
  }
 ],
 "metadata": {
  "kernelspec": {
   "display_name": "PyCharm (Tutorials)",
   "language": "python",
   "name": "pycharm-38c7cf03"
  },
  "language_info": {
   "codemirror_mode": {
    "name": "ipython",
    "version": 3
   },
   "file_extension": ".py",
   "mimetype": "text/x-python",
   "name": "python",
   "nbconvert_exporter": "python",
   "pygments_lexer": "ipython3",
   "version": "3.6.8"
  }
 },
 "nbformat": 4,
 "nbformat_minor": 4
}
